{
 "cells": [
  {
   "cell_type": "markdown",
   "metadata": {},
   "source": [
    "# Tickets Management\n",
    "\n"
   ]
  },
  {
   "cell_type": "markdown",
   "metadata": {},
   "source": [
    "## Importing Libraries"
   ]
  },
  {
   "cell_type": "code",
   "execution_count": 1,
   "metadata": {},
   "outputs": [],
   "source": [
    "import pandas as pd\n",
    "import datetime as dt\n",
    "import re\n",
    "import matplotlib.pyplot as plt\n",
    "import seaborn as sns\n",
    "import numpy as np \n",
    "import plotly.express as px\n",
    "import plotly.graph_objects as go\n",
    "from IPython.display import display_html, HTML\n",
    "from itertools import chain,cycle\n",
    "from scipy.stats import zscore\n",
    "\n",
    "pd.set_option('display.max_columns', None)\n",
    "pd.set_option('display.max_rows', None)"
   ]
  },
  {
   "cell_type": "code",
   "execution_count": 2,
   "metadata": {},
   "outputs": [
    {
     "data": {
      "text/html": [
       "<div>\n",
       "<style scoped>\n",
       "    .dataframe tbody tr th:only-of-type {\n",
       "        vertical-align: middle;\n",
       "    }\n",
       "\n",
       "    .dataframe tbody tr th {\n",
       "        vertical-align: top;\n",
       "    }\n",
       "\n",
       "    .dataframe thead th {\n",
       "        text-align: right;\n",
       "    }\n",
       "</style>\n",
       "<table border=\"1\" class=\"dataframe\">\n",
       "  <thead>\n",
       "    <tr style=\"text-align: right;\">\n",
       "      <th></th>\n",
       "      <th>Ticket No</th>\n",
       "      <th>Priority</th>\n",
       "      <th>State</th>\n",
       "      <th>Category</th>\n",
       "      <th>Sub Category</th>\n",
       "      <th>Skill Team</th>\n",
       "      <th>Hosting</th>\n",
       "      <th>Create Date</th>\n",
       "      <th>Picked Date</th>\n",
       "      <th>Completed Date</th>\n",
       "      <th>Assignee</th>\n",
       "      <th>Customer Rating</th>\n",
       "      <th>Outcome</th>\n",
       "      <th>Escalated</th>\n",
       "      <th>Reached via</th>\n",
       "    </tr>\n",
       "  </thead>\n",
       "  <tbody>\n",
       "    <tr>\n",
       "      <th>0</th>\n",
       "      <td>T01</td>\n",
       "      <td>High</td>\n",
       "      <td>California</td>\n",
       "      <td>Data Privacy</td>\n",
       "      <td>GDPR</td>\n",
       "      <td>IT</td>\n",
       "      <td>Vendor Cloud</td>\n",
       "      <td>2021-01-03 12:46:36</td>\n",
       "      <td>2021-01-03 12:48:31</td>\n",
       "      <td>2021-06-03 16:35:26</td>\n",
       "      <td>Bob</td>\n",
       "      <td>Excellent (5)</td>\n",
       "      <td>Advised for a risk assessment</td>\n",
       "      <td>NaN</td>\n",
       "      <td>Personal Call</td>\n",
       "    </tr>\n",
       "    <tr>\n",
       "      <th>1</th>\n",
       "      <td>T02</td>\n",
       "      <td>Low</td>\n",
       "      <td>Minnesota</td>\n",
       "      <td>Cyber Consultation</td>\n",
       "      <td>BCP/DR</td>\n",
       "      <td>IT</td>\n",
       "      <td>On Prem Server</td>\n",
       "      <td>2021-01-04 09:52:44</td>\n",
       "      <td>2021-01-04 10:12:46</td>\n",
       "      <td>2021-01-17 09:44:31</td>\n",
       "      <td>Bob</td>\n",
       "      <td>Excellent (5)</td>\n",
       "      <td>Recommended Threat Assessment</td>\n",
       "      <td>NaN</td>\n",
       "      <td>Ticket Portal</td>\n",
       "    </tr>\n",
       "    <tr>\n",
       "      <th>2</th>\n",
       "      <td>T03</td>\n",
       "      <td>High</td>\n",
       "      <td>Maryland</td>\n",
       "      <td>Cyber Security Breach</td>\n",
       "      <td>Firewall</td>\n",
       "      <td>HR</td>\n",
       "      <td>Vendor Cloud</td>\n",
       "      <td>2021-01-04 10:11:07</td>\n",
       "      <td>2021-01-04 10:11:31</td>\n",
       "      <td>2021-01-04 11:43:40</td>\n",
       "      <td>Allan</td>\n",
       "      <td>Excellent (5)</td>\n",
       "      <td>Recommended Threat Assessment</td>\n",
       "      <td>NaN</td>\n",
       "      <td>Personal Call</td>\n",
       "    </tr>\n",
       "    <tr>\n",
       "      <th>3</th>\n",
       "      <td>T04</td>\n",
       "      <td>Low</td>\n",
       "      <td>New York</td>\n",
       "      <td>Security Gap</td>\n",
       "      <td>Password non-expiry</td>\n",
       "      <td>IT</td>\n",
       "      <td>On Prem Server</td>\n",
       "      <td>2021-01-04 10:55:13</td>\n",
       "      <td>2021-01-04 10:55:31</td>\n",
       "      <td>2021-01-18 11:06:54</td>\n",
       "      <td>Allan</td>\n",
       "      <td>Excellent (5)</td>\n",
       "      <td>Advised for a risk assessment</td>\n",
       "      <td>NaN</td>\n",
       "      <td>Ticket Portal</td>\n",
       "    </tr>\n",
       "    <tr>\n",
       "      <th>4</th>\n",
       "      <td>T05</td>\n",
       "      <td>High</td>\n",
       "      <td>California</td>\n",
       "      <td>Cyber Security Breach</td>\n",
       "      <td>Malware Attack</td>\n",
       "      <td>Legal</td>\n",
       "      <td>On Prem Cloud</td>\n",
       "      <td>2021-01-04 21:58:33</td>\n",
       "      <td>2021-01-04 22:13:03</td>\n",
       "      <td>2021-01-11 12:20:42</td>\n",
       "      <td>Charlotte</td>\n",
       "      <td>Excellent (5)</td>\n",
       "      <td>Recommended Threat Assessment</td>\n",
       "      <td>NaN</td>\n",
       "      <td>Ticket Portal</td>\n",
       "    </tr>\n",
       "  </tbody>\n",
       "</table>\n",
       "</div>"
      ],
      "text/plain": [
       "  Ticket No Priority       State               Category         Sub Category  \\\n",
       "0       T01     High  California           Data Privacy                 GDPR   \n",
       "1       T02      Low   Minnesota     Cyber Consultation               BCP/DR   \n",
       "2       T03     High    Maryland  Cyber Security Breach             Firewall   \n",
       "3       T04      Low    New York           Security Gap  Password non-expiry   \n",
       "4       T05     High  California  Cyber Security Breach       Malware Attack   \n",
       "\n",
       "  Skill Team         Hosting         Create Date         Picked Date  \\\n",
       "0         IT    Vendor Cloud 2021-01-03 12:46:36 2021-01-03 12:48:31   \n",
       "1         IT  On Prem Server 2021-01-04 09:52:44 2021-01-04 10:12:46   \n",
       "2         HR    Vendor Cloud 2021-01-04 10:11:07 2021-01-04 10:11:31   \n",
       "3         IT  On Prem Server 2021-01-04 10:55:13 2021-01-04 10:55:31   \n",
       "4      Legal   On Prem Cloud 2021-01-04 21:58:33 2021-01-04 22:13:03   \n",
       "\n",
       "        Completed Date   Assignee Customer Rating  \\\n",
       "0  2021-06-03 16:35:26        Bob   Excellent (5)   \n",
       "1  2021-01-17 09:44:31        Bob   Excellent (5)   \n",
       "2  2021-01-04 11:43:40      Allan   Excellent (5)   \n",
       "3  2021-01-18 11:06:54      Allan   Excellent (5)   \n",
       "4  2021-01-11 12:20:42  Charlotte   Excellent (5)   \n",
       "\n",
       "                         Outcome Escalated    Reached via  \n",
       "0  Advised for a risk assessment       NaN  Personal Call  \n",
       "1  Recommended Threat Assessment       NaN  Ticket Portal  \n",
       "2  Recommended Threat Assessment       NaN  Personal Call  \n",
       "3  Advised for a risk assessment       NaN  Ticket Portal  \n",
       "4  Recommended Threat Assessment       NaN  Ticket Portal  "
      ]
     },
     "execution_count": 2,
     "metadata": {},
     "output_type": "execute_result"
    }
   ],
   "source": [
    "df1 = pd.read_excel('./Data/Case_Ticket_Management.xlsx')\n",
    "df1.head()"
   ]
  },
  {
   "cell_type": "markdown",
   "metadata": {},
   "source": [
    "## Data Validation"
   ]
  },
  {
   "cell_type": "markdown",
   "metadata": {},
   "source": [
    "The **\"Completed Date\"** in the data is **not in proper date format**"
   ]
  },
  {
   "cell_type": "code",
   "execution_count": 3,
   "metadata": {},
   "outputs": [
    {
     "name": "stdout",
     "output_type": "stream",
     "text": [
      "<class 'pandas.core.frame.DataFrame'>\n",
      "RangeIndex: 627 entries, 0 to 626\n",
      "Data columns (total 15 columns):\n",
      " #   Column           Non-Null Count  Dtype         \n",
      "---  ------           --------------  -----         \n",
      " 0   Ticket No        627 non-null    object        \n",
      " 1   Priority         627 non-null    object        \n",
      " 2   State            627 non-null    object        \n",
      " 3   Category         627 non-null    object        \n",
      " 4   Sub Category     627 non-null    object        \n",
      " 5   Skill Team       627 non-null    object        \n",
      " 6   Hosting          627 non-null    object        \n",
      " 7   Create Date      627 non-null    datetime64[ns]\n",
      " 8   Picked Date      627 non-null    datetime64[ns]\n",
      " 9   Completed Date   627 non-null    object        \n",
      " 10  Assignee         627 non-null    object        \n",
      " 11  Customer Rating  627 non-null    object        \n",
      " 12  Outcome          627 non-null    object        \n",
      " 13  Escalated        97 non-null     object        \n",
      " 14  Reached via      627 non-null    object        \n",
      "dtypes: datetime64[ns](2), object(13)\n",
      "memory usage: 73.6+ KB\n"
     ]
    }
   ],
   "source": [
    "df1.info()"
   ]
  },
  {
   "cell_type": "code",
   "execution_count": 4,
   "metadata": {},
   "outputs": [
    {
     "name": "stdout",
     "output_type": "stream",
     "text": [
      "* Shape of data: (627, 15)\n",
      "\n",
      "* Duplicates :  0\n",
      "\n",
      "* The index is \u001b[1;3m unique \u001b[0m\n",
      " \u001b[1;3m \n",
      "* Missing values:  \u001b[0m\n",
      "Escalated : 530\n",
      "\n",
      "\n",
      "<class 'pandas.core.frame.DataFrame'>\n",
      "RangeIndex: 627 entries, 0 to 626\n",
      "Data columns (total 15 columns):\n",
      " #   Column           Non-Null Count  Dtype         \n",
      "---  ------           --------------  -----         \n",
      " 0   Ticket No        627 non-null    object        \n",
      " 1   Priority         627 non-null    object        \n",
      " 2   State            627 non-null    object        \n",
      " 3   Category         627 non-null    object        \n",
      " 4   Sub Category     627 non-null    object        \n",
      " 5   Skill Team       627 non-null    object        \n",
      " 6   Hosting          627 non-null    object        \n",
      " 7   Create Date      627 non-null    datetime64[ns]\n",
      " 8   Picked Date      627 non-null    datetime64[ns]\n",
      " 9   Completed Date   627 non-null    object        \n",
      " 10  Assignee         627 non-null    object        \n",
      " 11  Customer Rating  627 non-null    object        \n",
      " 12  Outcome          627 non-null    object        \n",
      " 13  Escalated        97 non-null     object        \n",
      " 14  Reached via      627 non-null    object        \n",
      "dtypes: datetime64[ns](2), object(13)\n",
      "memory usage: 73.6+ KB\n",
      "\u001b[1;3m* Datatype of each colum  \u001b[0m \n",
      "  None\n"
     ]
    }
   ],
   "source": [
    "def data_info(data):\n",
    "    \n",
    "    # Shape\n",
    "    print(\"* Shape of data: {}\".format(data.shape))\n",
    "    \n",
    "    #Duplicates\n",
    "    print(\"\\n* Duplicates : \",sum(data.duplicated()))\n",
    "    \n",
    "    #Checking the index is finite\n",
    "    if data.index.is_unique:\n",
    "        print(\"\\n* The index is \\033[1;3m unique \\033[0m\")\n",
    "    else:\n",
    "        print('\\n* The index is \\033[1;3m not unique \\033[0m')\n",
    "    \n",
    "    # print only missing values\n",
    "    print(\" \\033[1;3m \\n* Missing values:  \\033[0m\")\n",
    "    missing_col =[]\n",
    "    for col in data.columns:\n",
    "        if data[col].isna().sum() > 0:\n",
    "            print(col,':',data[col].isna().sum())\n",
    "            missing_col.append(col)\n",
    "    if len(missing_col) == 0:\n",
    "        print('* No missing values')\n",
    "    print('\\n')\n",
    "    \n",
    "    # Datatype\n",
    "    print(\"\\033[1;3m* Datatype of each colum  \\033[0m \\n \",data.info())\n",
    "    \n",
    "    #\\033[1;3m' and '\\033[0m\n",
    "\n",
    "data_info(df1)"
   ]
  },
  {
   "cell_type": "code",
   "execution_count": 5,
   "metadata": {},
   "outputs": [
    {
     "name": "stdout",
     "output_type": "stream",
     "text": [
      "Successfully updated...\n"
     ]
    }
   ],
   "source": [
    "df = df1.copy ()\n",
    "\n",
    "# Improper formating & value in the completed date (Replacing with last date in Feb. 31-02-2021 11:30:57 ---> 2021-02-28 11:30:57)\n",
    "df.at[598,'Completed Date'] = '2021-02-28 11:30:57'\n",
    "\n",
    "# update the date format\n",
    "df['Completed Date'] = pd.to_datetime(df['Completed Date'])\n",
    "\n",
    "print('Successfully updated...')"
   ]
  },
  {
   "cell_type": "code",
   "execution_count": 6,
   "metadata": {},
   "outputs": [
    {
     "data": {
      "text/html": [
       "<div>\n",
       "<style scoped>\n",
       "    .dataframe tbody tr th:only-of-type {\n",
       "        vertical-align: middle;\n",
       "    }\n",
       "\n",
       "    .dataframe tbody tr th {\n",
       "        vertical-align: top;\n",
       "    }\n",
       "\n",
       "    .dataframe thead th {\n",
       "        text-align: right;\n",
       "    }\n",
       "</style>\n",
       "<table border=\"1\" class=\"dataframe\">\n",
       "  <thead>\n",
       "    <tr style=\"text-align: right;\">\n",
       "      <th></th>\n",
       "      <th>Ticket No</th>\n",
       "      <th>Priority</th>\n",
       "      <th>State</th>\n",
       "      <th>Category</th>\n",
       "      <th>Sub Category</th>\n",
       "      <th>Skill Team</th>\n",
       "      <th>Hosting</th>\n",
       "      <th>Create Date</th>\n",
       "      <th>Picked Date</th>\n",
       "      <th>Completed Date</th>\n",
       "      <th>Assignee</th>\n",
       "      <th>Customer Rating</th>\n",
       "      <th>Outcome</th>\n",
       "      <th>Escalated</th>\n",
       "      <th>Reached via</th>\n",
       "      <th>Days to pick</th>\n",
       "      <th>Days to complete</th>\n",
       "      <th>day created</th>\n",
       "      <th>day picked</th>\n",
       "      <th>day completed</th>\n",
       "      <th>month created</th>\n",
       "      <th>month picked</th>\n",
       "      <th>month completed</th>\n",
       "      <th>Rating</th>\n",
       "    </tr>\n",
       "  </thead>\n",
       "  <tbody>\n",
       "    <tr>\n",
       "      <th>0</th>\n",
       "      <td>T01</td>\n",
       "      <td>High</td>\n",
       "      <td>California</td>\n",
       "      <td>Data Privacy</td>\n",
       "      <td>GDPR</td>\n",
       "      <td>IT</td>\n",
       "      <td>Vendor Cloud</td>\n",
       "      <td>2021-01-03 12:46:36</td>\n",
       "      <td>2021-01-03 12:48:31</td>\n",
       "      <td>2021-06-03 16:35:26</td>\n",
       "      <td>Bob</td>\n",
       "      <td>Excellent (5)</td>\n",
       "      <td>Advised for a risk assessment</td>\n",
       "      <td>NaN</td>\n",
       "      <td>Personal Call</td>\n",
       "      <td>0</td>\n",
       "      <td>151</td>\n",
       "      <td>Sun</td>\n",
       "      <td>Sun</td>\n",
       "      <td>Thu</td>\n",
       "      <td>Jan</td>\n",
       "      <td>Jan</td>\n",
       "      <td>Jun</td>\n",
       "      <td>5</td>\n",
       "    </tr>\n",
       "    <tr>\n",
       "      <th>1</th>\n",
       "      <td>T02</td>\n",
       "      <td>Low</td>\n",
       "      <td>Minnesota</td>\n",
       "      <td>Cyber Consultation</td>\n",
       "      <td>BCP/DR</td>\n",
       "      <td>IT</td>\n",
       "      <td>On Prem Server</td>\n",
       "      <td>2021-01-04 09:52:44</td>\n",
       "      <td>2021-01-04 10:12:46</td>\n",
       "      <td>2021-01-17 09:44:31</td>\n",
       "      <td>Bob</td>\n",
       "      <td>Excellent (5)</td>\n",
       "      <td>Recommended Threat Assessment</td>\n",
       "      <td>NaN</td>\n",
       "      <td>Ticket Portal</td>\n",
       "      <td>0</td>\n",
       "      <td>12</td>\n",
       "      <td>Mon</td>\n",
       "      <td>Mon</td>\n",
       "      <td>Sun</td>\n",
       "      <td>Jan</td>\n",
       "      <td>Jan</td>\n",
       "      <td>Jan</td>\n",
       "      <td>5</td>\n",
       "    </tr>\n",
       "    <tr>\n",
       "      <th>2</th>\n",
       "      <td>T03</td>\n",
       "      <td>High</td>\n",
       "      <td>Maryland</td>\n",
       "      <td>Cyber Security Breach</td>\n",
       "      <td>Firewall</td>\n",
       "      <td>HR</td>\n",
       "      <td>Vendor Cloud</td>\n",
       "      <td>2021-01-04 10:11:07</td>\n",
       "      <td>2021-01-04 10:11:31</td>\n",
       "      <td>2021-01-04 11:43:40</td>\n",
       "      <td>Allan</td>\n",
       "      <td>Excellent (5)</td>\n",
       "      <td>Recommended Threat Assessment</td>\n",
       "      <td>NaN</td>\n",
       "      <td>Personal Call</td>\n",
       "      <td>0</td>\n",
       "      <td>0</td>\n",
       "      <td>Mon</td>\n",
       "      <td>Mon</td>\n",
       "      <td>Mon</td>\n",
       "      <td>Jan</td>\n",
       "      <td>Jan</td>\n",
       "      <td>Jan</td>\n",
       "      <td>5</td>\n",
       "    </tr>\n",
       "    <tr>\n",
       "      <th>3</th>\n",
       "      <td>T04</td>\n",
       "      <td>Low</td>\n",
       "      <td>New York</td>\n",
       "      <td>Security Gap</td>\n",
       "      <td>Password non-expiry</td>\n",
       "      <td>IT</td>\n",
       "      <td>On Prem Server</td>\n",
       "      <td>2021-01-04 10:55:13</td>\n",
       "      <td>2021-01-04 10:55:31</td>\n",
       "      <td>2021-01-18 11:06:54</td>\n",
       "      <td>Allan</td>\n",
       "      <td>Excellent (5)</td>\n",
       "      <td>Advised for a risk assessment</td>\n",
       "      <td>NaN</td>\n",
       "      <td>Ticket Portal</td>\n",
       "      <td>0</td>\n",
       "      <td>14</td>\n",
       "      <td>Mon</td>\n",
       "      <td>Mon</td>\n",
       "      <td>Mon</td>\n",
       "      <td>Jan</td>\n",
       "      <td>Jan</td>\n",
       "      <td>Jan</td>\n",
       "      <td>5</td>\n",
       "    </tr>\n",
       "    <tr>\n",
       "      <th>4</th>\n",
       "      <td>T05</td>\n",
       "      <td>High</td>\n",
       "      <td>California</td>\n",
       "      <td>Cyber Security Breach</td>\n",
       "      <td>Malware Attack</td>\n",
       "      <td>Legal</td>\n",
       "      <td>On Prem Cloud</td>\n",
       "      <td>2021-01-04 21:58:33</td>\n",
       "      <td>2021-01-04 22:13:03</td>\n",
       "      <td>2021-01-11 12:20:42</td>\n",
       "      <td>Charlotte</td>\n",
       "      <td>Excellent (5)</td>\n",
       "      <td>Recommended Threat Assessment</td>\n",
       "      <td>NaN</td>\n",
       "      <td>Ticket Portal</td>\n",
       "      <td>0</td>\n",
       "      <td>6</td>\n",
       "      <td>Mon</td>\n",
       "      <td>Mon</td>\n",
       "      <td>Mon</td>\n",
       "      <td>Jan</td>\n",
       "      <td>Jan</td>\n",
       "      <td>Jan</td>\n",
       "      <td>5</td>\n",
       "    </tr>\n",
       "  </tbody>\n",
       "</table>\n",
       "</div>"
      ],
      "text/plain": [
       "  Ticket No Priority       State               Category         Sub Category  \\\n",
       "0       T01     High  California           Data Privacy                 GDPR   \n",
       "1       T02      Low   Minnesota     Cyber Consultation               BCP/DR   \n",
       "2       T03     High    Maryland  Cyber Security Breach             Firewall   \n",
       "3       T04      Low    New York           Security Gap  Password non-expiry   \n",
       "4       T05     High  California  Cyber Security Breach       Malware Attack   \n",
       "\n",
       "  Skill Team         Hosting         Create Date         Picked Date  \\\n",
       "0         IT    Vendor Cloud 2021-01-03 12:46:36 2021-01-03 12:48:31   \n",
       "1         IT  On Prem Server 2021-01-04 09:52:44 2021-01-04 10:12:46   \n",
       "2         HR    Vendor Cloud 2021-01-04 10:11:07 2021-01-04 10:11:31   \n",
       "3         IT  On Prem Server 2021-01-04 10:55:13 2021-01-04 10:55:31   \n",
       "4      Legal   On Prem Cloud 2021-01-04 21:58:33 2021-01-04 22:13:03   \n",
       "\n",
       "       Completed Date   Assignee Customer Rating  \\\n",
       "0 2021-06-03 16:35:26        Bob   Excellent (5)   \n",
       "1 2021-01-17 09:44:31        Bob   Excellent (5)   \n",
       "2 2021-01-04 11:43:40      Allan   Excellent (5)   \n",
       "3 2021-01-18 11:06:54      Allan   Excellent (5)   \n",
       "4 2021-01-11 12:20:42  Charlotte   Excellent (5)   \n",
       "\n",
       "                         Outcome Escalated    Reached via  Days to pick  \\\n",
       "0  Advised for a risk assessment       NaN  Personal Call             0   \n",
       "1  Recommended Threat Assessment       NaN  Ticket Portal             0   \n",
       "2  Recommended Threat Assessment       NaN  Personal Call             0   \n",
       "3  Advised for a risk assessment       NaN  Ticket Portal             0   \n",
       "4  Recommended Threat Assessment       NaN  Ticket Portal             0   \n",
       "\n",
       "   Days to complete day created day picked day completed month created  \\\n",
       "0               151         Sun        Sun           Thu           Jan   \n",
       "1                12         Mon        Mon           Sun           Jan   \n",
       "2                 0         Mon        Mon           Mon           Jan   \n",
       "3                14         Mon        Mon           Mon           Jan   \n",
       "4                 6         Mon        Mon           Mon           Jan   \n",
       "\n",
       "  month picked month completed  Rating  \n",
       "0          Jan             Jun       5  \n",
       "1          Jan             Jan       5  \n",
       "2          Jan             Jan       5  \n",
       "3          Jan             Jan       5  \n",
       "4          Jan             Jan       5  "
      ]
     },
     "execution_count": 6,
     "metadata": {},
     "output_type": "execute_result"
    }
   ],
   "source": [
    "# Derive new columns\n",
    "df['Days to pick'] = (df['Picked Date'] - df['Create Date']).dt.days\n",
    "df['Days to complete'] = (df['Completed Date'] - df['Picked Date']).dt.days\n",
    "\n",
    "df['day created'] = pd.to_datetime(df['Create Date']).dt.strftime(\"%a\")\n",
    "df['day picked'] = pd.to_datetime(df['Picked Date']).dt.strftime(\"%a\")\n",
    "df['day completed'] = pd.to_datetime(df['Completed Date']).dt.strftime(\"%a\")\n",
    "\n",
    "df['month created'] = pd.to_datetime(df['Create Date']).dt.strftime(\"%b\")\n",
    "df['month picked'] = pd.to_datetime(df['Picked Date']).dt.strftime(\"%b\")\n",
    "df['month completed'] = pd.to_datetime(df['Completed Date']).dt.strftime(\"%b\")\n",
    "\n",
    "# Extract Rating\n",
    "pattern = r\"\\((\\d+)\\)\"\n",
    "df['Rating'] = df['Customer Rating'].str.extract(pattern).astype(int)\n",
    "\n",
    "\n",
    "df.head()"
   ]
  },
  {
   "cell_type": "code",
   "execution_count": 7,
   "metadata": {},
   "outputs": [
    {
     "name": "stdout",
     "output_type": "stream",
     "text": [
      "Improper date:  12\n",
      "Rows in the data:  627\n",
      "Rows after dropping improper values:  615\n",
      "Successfully updated...\n"
     ]
    }
   ],
   "source": [
    "# improper dates entered\n",
    "drp_ind = df[(df['Create Date']>df['Picked Date']) | (df['Picked Date']> df['Completed Date']) | (df['Create Date']> df['Completed Date'])].index\n",
    "print('Improper date: ', len(drp_ind))\n",
    "print('Rows in the data: ',df.shape[0])\n",
    "df.drop(index=drp_ind, inplace= True)\n",
    "print('Rows after dropping improper values: ',df.shape[0])\n",
    "\n",
    "print('Successfully updated...')\n",
    "\n"
   ]
  },
  {
   "cell_type": "markdown",
   "metadata": {},
   "source": [
    "## Explorartory Data Analysis\n",
    "\n",
    "+ Done after removing the improper tickets"
   ]
  },
  {
   "cell_type": "code",
   "execution_count": 8,
   "metadata": {},
   "outputs": [],
   "source": [
    "# setting up color for max / min value\n",
    "def set_custom_palette(series, highlight_color = 'turquoise', other_color = 'lightgrey', highlight = 'Max'):\n",
    "    \n",
    "    if highlight == 'Max':\n",
    "        val = series.max()\n",
    "    if highlight == 'Min':\n",
    "        val = series.min()\n",
    "    pal = []\n",
    "    for item in series:\n",
    "        if item == val:\n",
    "            pal.append(highlight_color)\n",
    "        else:\n",
    "            pal.append(other_color)\n",
    "    return pal\n",
    " \n",
    "# Barchart\n",
    "def barplot(x , y, color = '#79DAE8', orient = None, order = None, palette = None, xlabel = None, ylabel = None, title = None,rotation=None,xlim=None, ylim = None):\n",
    "    fig, ax = plt.subplots(figsize = (12,8))\n",
    "    ax = sns.barplot(x=x, y = y,  color = color, order=order,palette = palette, orient = orient)\n",
    "    ax.bar_label(ax.containers[0])\n",
    "    plt.xticks(rotation=rotation)\n",
    "    if xlabel is not None:\n",
    "        plt.xlabel(xlabel)\n",
    "    if ylabel is not None:\n",
    "        plt.ylabel(ylabel)\n",
    "    if title is not None:\n",
    "        plt.title(title)\n",
    "    if xlim is not None:\n",
    "        plt.xlim(xlim)\n",
    "    if ylim is not None:\n",
    "        plt.ylim(ylim)\n",
    "    sns.despine(bottom = True, left = True)\n",
    "    plt.show()\n",
    "\n",
    "def grp_df(df, groupby_columns, aggregator_coulums):\n",
    "    out_df = df.groupby(groupby_columns).agg(aggregator_coulums)\n",
    "    out_df.reset_index(inplace = True)\n",
    "    return out_df"
   ]
  },
  {
   "cell_type": "markdown",
   "metadata": {},
   "source": [
    "## Quick Facts"
   ]
  },
  {
   "cell_type": "markdown",
   "metadata": {},
   "source": [
    "#### what is the easiest way of reaching out to create a ticket?"
   ]
  },
  {
   "cell_type": "code",
   "execution_count": 9,
   "metadata": {},
   "outputs": [
    {
     "data": {
      "image/png": "[encoded data removed]",
      "text/plain": [
       "<Figure size 640x480 with 1 Axes>"
      ]
     },
     "metadata": {},
     "output_type": "display_data"
    }
   ],
   "source": [
    "# Create a copy of the validated data to create plots\n",
    "plt_df = df.copy()\n",
    "\n",
    "reach = plt_df.groupby('Reached via')['Ticket No'].count()\n",
    "colors = ['#F1C40F','#2ECC71','#3498DB']\n",
    "fig, ax = plt.subplots()\n",
    "wedges, texts, autotexts = ax.pie(reach.values, labels=reach.index, autopct='%1.1f%%', startangle=90, colors=colors, wedgeprops={'edgecolor': 'white'})\n",
    "\n",
    "# Draw a white circle at the center to create the doughnut effect\n",
    "centre_circle = plt.Circle((0,0),0.70,fc='white')\n",
    "fig.gca().add_artist(centre_circle)\n",
    "\n",
    "# Equal aspect ratio ensures that pie is drawn as a circle.\n",
    "ax.axis('equal')\n",
    "\n",
    "plt.show()"
   ]
  },
  {
   "cell_type": "markdown",
   "metadata": {},
   "source": [
    "#### How many tickets were completed in less than a week?"
   ]
  },
  {
   "cell_type": "code",
   "execution_count": 10,
   "metadata": {},
   "outputs": [
    {
     "name": "stdout",
     "output_type": "stream",
     "text": [
      "Percentage of tickets completed within a week:  0.66\n"
     ]
    }
   ],
   "source": [
    "zero_days = plt_df[(plt_df['Days to pick']<=7) & (plt_df['Days to complete']<=7)]\n",
    "print('Percentage of tickets completed within a week: ',round(zero_days.shape[0]/plt_df.shape[0],2))"
   ]
  },
  {
   "cell_type": "markdown",
   "metadata": {},
   "source": [
    "## Trend & Productivity Analysis"
   ]
  },
  {
   "cell_type": "code",
   "execution_count": 11,
   "metadata": {},
   "outputs": [],
   "source": [
    "\n",
    "\n",
    "# Category for weeks\n",
    "weekday = ['Mon', 'Tue', 'Wed', 'Thu', 'Fri', 'Sat', 'Sun']\n",
    "weekdaycat = pd.api.types.CategoricalDtype(ordered=True, categories=weekday)\n",
    "\n",
    "# Category for months\n",
    "month = ['Jan', 'Feb', 'Mar', 'Apr', 'May', 'Jun', 'Jul', 'Aug', 'Sep', 'Oct', 'Nov', 'Dec']\n",
    "monthcat = pd.api.types.CategoricalDtype(ordered=True, categories=month)\n",
    "\n",
    "# update the days into categorical colums\n",
    "plt_df['day created'] = plt_df['day created'].astype(weekdaycat)\n",
    "plt_df['day picked'] = plt_df['day picked'].astype(weekdaycat)\n",
    "plt_df['day completed'] = plt_df['day completed'].astype(weekdaycat)\n",
    "\n",
    "# update the month into categorical colums\n",
    "plt_df['month created'] = plt_df['month created'].astype(monthcat)\n",
    "plt_df['month picked'] = plt_df['month picked'].astype(monthcat)\n",
    "plt_df['month completed'] = plt_df['month completed'].astype(monthcat)"
   ]
  },
  {
   "cell_type": "markdown",
   "metadata": {},
   "source": [
    "#### What is the distribution of tickets picked and completed through out the week?\n",
    "+ We can observe that **the difference tickets being completed and picked by the team is very small.** \n",
    "+ People tend to **pick more cases on Wednesday** and gradually lower.\n",
    "+ People tend to **complete more cases by Thursday**\n",
    "+ **Team productivity** throught the week is **0.96**"
   ]
  },
  {
   "cell_type": "code",
   "execution_count": 12,
   "metadata": {},
   "outputs": [
    {
     "data": {
      "image/png": "[encoded data removed]",
      "text/plain": [
       "<Figure size 2000x1200 with 2 Axes>"
      ]
     },
     "metadata": {},
     "output_type": "display_data"
    },
    {
     "name": "stdout",
     "output_type": "stream",
     "text": [
      "completed Vs. Picked (corelation):  0.95\n",
      "Team productivity (weekly)):  0.96\n"
     ]
    }
   ],
   "source": [
    "# Dataset\n",
    "cr_dow = plt_df.groupby('day created')['Ticket No'].count()\n",
    "pk_dow = plt_df.groupby('day picked')['Ticket No'].count()\n",
    "cmp_dow = plt_df.groupby('day completed')['Ticket No'].count()\n",
    "\n",
    "# Merge the Datas\n",
    "week_df = pd.concat([cr_dow, pk_dow, cmp_dow], axis=1)\n",
    "week_df.columns = [ 'Created','Picked', 'Completed']\n",
    "week_df['productivity score'] = week_df['Completed'] / week_df['Picked']\n",
    "week_corr = str(round(week_df['Picked'].corr(week_df['Completed']),2))\n",
    "week_pd_score = str(round(week_df['productivity score'].mean(),2))\n",
    "week_df.to_excel('./Data/week trend.xlsx')\n",
    "\n",
    "# Subplots\n",
    "fig, ax = plt.subplots(1,2,figsize = (20,12))\n",
    "fig.suptitle('Completed Vs. Picked\\n\\n'+'correlation: '+week_corr+'              Avg. Team Productivity (week) : '+ week_pd_score)\n",
    "\n",
    "# Plot 1 - Tickets Completed (Meaning the tickets are closed / becomes Inactive )\n",
    "p1 = sns.barplot (y = cmp_dow.index, x = cmp_dow.values, orient='h', ax = ax[0], color = '#F39C12')\n",
    "p1.invert_xaxis()\n",
    "p1.bar_label(p1.containers[0], label_type = 'center',fontsize=14)\n",
    "p1.set(yticks = [],ylabel = '',xlabel= 'Tickets completed')\n",
    "\n",
    "# Plot 2 - Tickets Picked (Meaning the tickets are picked / becomes active )\n",
    "p2 = sns.barplot (y = pk_dow.index, x = pk_dow.values, orient='h', ax = ax[1] , color = '#5DBB63')\n",
    "p2.bar_label(p2.containers[0], label_type= 'center',fontsize=14)\n",
    "p2.set_yticklabels(pk_dow.index, fontsize = 16)\n",
    "p2.set(ylabel = '',xlabel= 'Tickets Picked')\n",
    "\n",
    "sns.despine(bottom = True, left = True)\n",
    "plt.show()\n",
    "\n",
    "# Caluclate the correlation b/w picked and completed\n",
    "\n",
    "\n",
    "print(\"completed Vs. Picked (corelation): \", round(week_df['Picked'].corr(week_df['Completed']),2))\n",
    "print(\"Team productivity (weekly)): \", round(week_df['productivity score'].mean(),2))"
   ]
  },
  {
   "cell_type": "markdown",
   "metadata": {},
   "source": [
    "#### What is the number of tickets completed and picked throught the year?\n",
    "+ We can observe that **most of the tickets that were picked were completed in the same month**. To back this statement statistically there is a positive correleation of 0.77 (High positive correleation).\n",
    "+ The **Average team productivity throught the year is high** i.e., score of 1.01\n",
    "+ On month of April we can observer more number of tickets being picked up (78)\n",
    "+ On month of Jun we can observe that more number of tickets being completed (81)\n",
    "+ we can observe a trend i.e., the inflow of tickets is high in month of April and Jun and the gradually decrease in the following months."
   ]
  },
  {
   "cell_type": "code",
   "execution_count": 13,
   "metadata": {},
   "outputs": [
    {
     "data": {
      "image/png": "[encoded data removed]",
      "text/plain": [
       "<Figure size 1200x600 with 1 Axes>"
      ]
     },
     "metadata": {},
     "output_type": "display_data"
    },
    {
     "name": "stdout",
     "output_type": "stream",
     "text": [
      "Team productivity (monthly) : 1.01\n"
     ]
    }
   ],
   "source": [
    "# Dataset\n",
    "cr_month = plt_df.groupby('month created')['Ticket No'].count()\n",
    "pk_month = plt_df.groupby('month picked')['Ticket No'].count()\n",
    "cmp_month = plt_df.groupby('month completed')['Ticket No'].count()\n",
    "\n",
    "month_df = pd.concat([cr_month,pk_month, cmp_month], axis=1)\n",
    "month_df.columns = ['Created' ,'Picked', 'Completed']\n",
    "month_df['productivity score'] = month_df['Completed'] / month_df['Picked']\n",
    "month_corr = str(round(month_df['Picked'].corr(month_df['Completed']),2))\n",
    "month_pd_score = str(round(month_df['productivity score'].mean(),2))\n",
    "month_df.to_excel('./Data/month trend.xlsx')\n",
    "\n",
    "plt.figure(figsize=(12,6))\n",
    "x = np.arange(12)\n",
    "width = 0.2\n",
    "cr_bar = plt.bar(x-0.2, month_df['Created'], width,color = '#3498DB')\n",
    "pk_bar = plt.bar(x,month_df['Picked'], width,color = '#F39C12')\n",
    "cmp_bar = plt.bar(x+0.2, month_df['Completed'], width,color='#5DBB63')\n",
    "plt.xticks(x, ['Jan', 'Feb', 'Mar', 'Apr', 'May', 'Jun', 'Jul', 'Aug', 'Sep', 'Oct','Nov', 'Dec'])\n",
    "\n",
    "for spine in plt.gca().spines.values():\n",
    "    spine.set_visible(False)\n",
    "plt.tight_layout()\n",
    "plt.legend([\"Created\", \"Picked\", \"Completed\"])\n",
    "\n",
    "for bari in cr_bar:\n",
    "    height = bari.get_height()\n",
    "    plt.gca().text(bari.get_x() + bari.get_width()/2, bari.get_height()+0.5, str(int(height)),\n",
    "                 ha='center', color='black', fontsize=8)\n",
    "    \n",
    "for bari in pk_bar:\n",
    "    height = bari.get_height()\n",
    "    plt.gca().text(bari.get_x() + bari.get_width()/2, bari.get_height()+0.5, str(int(height)),\n",
    "                    ha='center', color='black', fontsize=8)\n",
    "\n",
    "for bari in cmp_bar:\n",
    "    height = bari.get_height()\n",
    "    plt.gca().text(bari.get_x() + bari.get_width()/2, bari.get_height()+0.5, str(int(height)),\n",
    "                    ha='center', color='black', fontsize=8)\n",
    "plt.show()\n",
    "\n",
    "print(\"Team productivity (monthly) :\",round(month_df['productivity score'].mean(),2))"
   ]
  },
  {
   "cell_type": "code",
   "execution_count": 14,
   "metadata": {},
   "outputs": [
    {
     "data": {
      "text/html": [
       "<div>\n",
       "<style scoped>\n",
       "    .dataframe tbody tr th:only-of-type {\n",
       "        vertical-align: middle;\n",
       "    }\n",
       "\n",
       "    .dataframe tbody tr th {\n",
       "        vertical-align: top;\n",
       "    }\n",
       "\n",
       "    .dataframe thead th {\n",
       "        text-align: right;\n",
       "    }\n",
       "</style>\n",
       "<table border=\"1\" class=\"dataframe\">\n",
       "  <thead>\n",
       "    <tr style=\"text-align: right;\">\n",
       "      <th></th>\n",
       "      <th>Created</th>\n",
       "      <th>Picked</th>\n",
       "      <th>Completed</th>\n",
       "      <th>productivity score</th>\n",
       "    </tr>\n",
       "  </thead>\n",
       "  <tbody>\n",
       "    <tr>\n",
       "      <th>Jan</th>\n",
       "      <td>46</td>\n",
       "      <td>46</td>\n",
       "      <td>39</td>\n",
       "      <td>0.847826</td>\n",
       "    </tr>\n",
       "    <tr>\n",
       "      <th>Feb</th>\n",
       "      <td>27</td>\n",
       "      <td>27</td>\n",
       "      <td>23</td>\n",
       "      <td>0.851852</td>\n",
       "    </tr>\n",
       "    <tr>\n",
       "      <th>Mar</th>\n",
       "      <td>37</td>\n",
       "      <td>37</td>\n",
       "      <td>31</td>\n",
       "      <td>0.837838</td>\n",
       "    </tr>\n",
       "    <tr>\n",
       "      <th>Apr</th>\n",
       "      <td>78</td>\n",
       "      <td>78</td>\n",
       "      <td>56</td>\n",
       "      <td>0.717949</td>\n",
       "    </tr>\n",
       "    <tr>\n",
       "      <th>May</th>\n",
       "      <td>73</td>\n",
       "      <td>73</td>\n",
       "      <td>70</td>\n",
       "      <td>0.958904</td>\n",
       "    </tr>\n",
       "    <tr>\n",
       "      <th>Jun</th>\n",
       "      <td>57</td>\n",
       "      <td>56</td>\n",
       "      <td>81</td>\n",
       "      <td>1.446429</td>\n",
       "    </tr>\n",
       "    <tr>\n",
       "      <th>Jul</th>\n",
       "      <td>49</td>\n",
       "      <td>49</td>\n",
       "      <td>54</td>\n",
       "      <td>1.102041</td>\n",
       "    </tr>\n",
       "    <tr>\n",
       "      <th>Aug</th>\n",
       "      <td>81</td>\n",
       "      <td>80</td>\n",
       "      <td>72</td>\n",
       "      <td>0.900000</td>\n",
       "    </tr>\n",
       "    <tr>\n",
       "      <th>Sep</th>\n",
       "      <td>55</td>\n",
       "      <td>57</td>\n",
       "      <td>65</td>\n",
       "      <td>1.140351</td>\n",
       "    </tr>\n",
       "    <tr>\n",
       "      <th>Oct</th>\n",
       "      <td>36</td>\n",
       "      <td>36</td>\n",
       "      <td>41</td>\n",
       "      <td>1.138889</td>\n",
       "    </tr>\n",
       "    <tr>\n",
       "      <th>Nov</th>\n",
       "      <td>45</td>\n",
       "      <td>44</td>\n",
       "      <td>45</td>\n",
       "      <td>1.022727</td>\n",
       "    </tr>\n",
       "    <tr>\n",
       "      <th>Dec</th>\n",
       "      <td>31</td>\n",
       "      <td>32</td>\n",
       "      <td>38</td>\n",
       "      <td>1.187500</td>\n",
       "    </tr>\n",
       "  </tbody>\n",
       "</table>\n",
       "</div>"
      ],
      "text/plain": [
       "     Created  Picked  Completed  productivity score\n",
       "Jan       46      46         39            0.847826\n",
       "Feb       27      27         23            0.851852\n",
       "Mar       37      37         31            0.837838\n",
       "Apr       78      78         56            0.717949\n",
       "May       73      73         70            0.958904\n",
       "Jun       57      56         81            1.446429\n",
       "Jul       49      49         54            1.102041\n",
       "Aug       81      80         72            0.900000\n",
       "Sep       55      57         65            1.140351\n",
       "Oct       36      36         41            1.138889\n",
       "Nov       45      44         45            1.022727\n",
       "Dec       31      32         38            1.187500"
      ]
     },
     "execution_count": 14,
     "metadata": {},
     "output_type": "execute_result"
    }
   ],
   "source": [
    "month_df"
   ]
  },
  {
   "cell_type": "markdown",
   "metadata": {},
   "source": [
    "#### what is the productivity score of April & June? why is the too many cases completed on Jun with relatively low tickets picked?\n",
    "\n",
    "+ Productivity score (Apr) 0.72 - Low\n",
    "+ Productivity score (Jun) 1.45 - High\n",
    "+ The 56 tickets completed on April was picked on the same month rest of the tickets completed through out the month\n",
    "+ Tickets Completed on June were high as there were also cases picked on firts 4 months 2 (22 tickets)\n"
   ]
  },
  {
   "cell_type": "code",
   "execution_count": 15,
   "metadata": {},
   "outputs": [
    {
     "name": "stdout",
     "output_type": "stream",
     "text": [
      "Productivity score (Apr) [0.71794872]\n",
      "Productivity score (Jun) [1.44642857]\n"
     ]
    },
    {
     "data": {
      "text/html": [
       "<style type=\"text/css\">\n",
       "</style>\n",
       "<table id=\"T_e6290\" style='display:inline'>\n",
       "  <caption>Tikcets picked on April</caption>\n",
       "  <thead>\n",
       "    <tr>\n",
       "      <th class=\"blank level0\" >&nbsp;</th>\n",
       "      <th id=\"T_e6290_level0_col0\" class=\"col_heading level0 col0\" >month completed</th>\n",
       "      <th id=\"T_e6290_level0_col1\" class=\"col_heading level0 col1\" ># Tickets</th>\n",
       "    </tr>\n",
       "  </thead>\n",
       "  <tbody>\n",
       "    <tr>\n",
       "      <th id=\"T_e6290_level0_row0\" class=\"row_heading level0 row0\" >0</th>\n",
       "      <td id=\"T_e6290_row0_col0\" class=\"data row0 col0\" >Jan</td>\n",
       "      <td id=\"T_e6290_row0_col1\" class=\"data row0 col1\" >0</td>\n",
       "    </tr>\n",
       "    <tr>\n",
       "      <th id=\"T_e6290_level0_row1\" class=\"row_heading level0 row1\" >1</th>\n",
       "      <td id=\"T_e6290_row1_col0\" class=\"data row1 col0\" >Feb</td>\n",
       "      <td id=\"T_e6290_row1_col1\" class=\"data row1 col1\" >0</td>\n",
       "    </tr>\n",
       "    <tr>\n",
       "      <th id=\"T_e6290_level0_row2\" class=\"row_heading level0 row2\" >2</th>\n",
       "      <td id=\"T_e6290_row2_col0\" class=\"data row2 col0\" >Mar</td>\n",
       "      <td id=\"T_e6290_row2_col1\" class=\"data row2 col1\" >0</td>\n",
       "    </tr>\n",
       "    <tr>\n",
       "      <th id=\"T_e6290_level0_row3\" class=\"row_heading level0 row3\" >3</th>\n",
       "      <td id=\"T_e6290_row3_col0\" class=\"data row3 col0\" >Apr</td>\n",
       "      <td id=\"T_e6290_row3_col1\" class=\"data row3 col1\" >56</td>\n",
       "    </tr>\n",
       "    <tr>\n",
       "      <th id=\"T_e6290_level0_row4\" class=\"row_heading level0 row4\" >4</th>\n",
       "      <td id=\"T_e6290_row4_col0\" class=\"data row4 col0\" >May</td>\n",
       "      <td id=\"T_e6290_row4_col1\" class=\"data row4 col1\" >16</td>\n",
       "    </tr>\n",
       "    <tr>\n",
       "      <th id=\"T_e6290_level0_row5\" class=\"row_heading level0 row5\" >5</th>\n",
       "      <td id=\"T_e6290_row5_col0\" class=\"data row5 col0\" >Jun</td>\n",
       "      <td id=\"T_e6290_row5_col1\" class=\"data row5 col1\" >2</td>\n",
       "    </tr>\n",
       "    <tr>\n",
       "      <th id=\"T_e6290_level0_row6\" class=\"row_heading level0 row6\" >6</th>\n",
       "      <td id=\"T_e6290_row6_col0\" class=\"data row6 col0\" >Jul</td>\n",
       "      <td id=\"T_e6290_row6_col1\" class=\"data row6 col1\" >2</td>\n",
       "    </tr>\n",
       "    <tr>\n",
       "      <th id=\"T_e6290_level0_row7\" class=\"row_heading level0 row7\" >7</th>\n",
       "      <td id=\"T_e6290_row7_col0\" class=\"data row7 col0\" >Aug</td>\n",
       "      <td id=\"T_e6290_row7_col1\" class=\"data row7 col1\" >1</td>\n",
       "    </tr>\n",
       "    <tr>\n",
       "      <th id=\"T_e6290_level0_row8\" class=\"row_heading level0 row8\" >8</th>\n",
       "      <td id=\"T_e6290_row8_col0\" class=\"data row8 col0\" >Sep</td>\n",
       "      <td id=\"T_e6290_row8_col1\" class=\"data row8 col1\" >1</td>\n",
       "    </tr>\n",
       "    <tr>\n",
       "      <th id=\"T_e6290_level0_row9\" class=\"row_heading level0 row9\" >9</th>\n",
       "      <td id=\"T_e6290_row9_col0\" class=\"data row9 col0\" >Oct</td>\n",
       "      <td id=\"T_e6290_row9_col1\" class=\"data row9 col1\" >0</td>\n",
       "    </tr>\n",
       "    <tr>\n",
       "      <th id=\"T_e6290_level0_row10\" class=\"row_heading level0 row10\" >10</th>\n",
       "      <td id=\"T_e6290_row10_col0\" class=\"data row10 col0\" >Nov</td>\n",
       "      <td id=\"T_e6290_row10_col1\" class=\"data row10 col1\" >0</td>\n",
       "    </tr>\n",
       "    <tr>\n",
       "      <th id=\"T_e6290_level0_row11\" class=\"row_heading level0 row11\" >11</th>\n",
       "      <td id=\"T_e6290_row11_col0\" class=\"data row11 col0\" >Dec</td>\n",
       "      <td id=\"T_e6290_row11_col1\" class=\"data row11 col1\" >0</td>\n",
       "    </tr>\n",
       "  </tbody>\n",
       "</table>\n",
       "<style type=\"text/css\">\n",
       "</style>\n",
       "<table id=\"T_e9a3f\" style='display:inline'>\n",
       "  <caption>Tikcets completed on June</caption>\n",
       "  <thead>\n",
       "    <tr>\n",
       "      <th class=\"blank level0\" >&nbsp;</th>\n",
       "      <th id=\"T_e9a3f_level0_col0\" class=\"col_heading level0 col0\" >month picked</th>\n",
       "      <th id=\"T_e9a3f_level0_col1\" class=\"col_heading level0 col1\" ># Tickets</th>\n",
       "    </tr>\n",
       "  </thead>\n",
       "  <tbody>\n",
       "    <tr>\n",
       "      <th id=\"T_e9a3f_level0_row0\" class=\"row_heading level0 row0\" >0</th>\n",
       "      <td id=\"T_e9a3f_row0_col0\" class=\"data row0 col0\" >Jan</td>\n",
       "      <td id=\"T_e9a3f_row0_col1\" class=\"data row0 col1\" >8</td>\n",
       "    </tr>\n",
       "    <tr>\n",
       "      <th id=\"T_e9a3f_level0_row1\" class=\"row_heading level0 row1\" >1</th>\n",
       "      <td id=\"T_e9a3f_row1_col0\" class=\"data row1 col0\" >Feb</td>\n",
       "      <td id=\"T_e9a3f_row1_col1\" class=\"data row1 col1\" >4</td>\n",
       "    </tr>\n",
       "    <tr>\n",
       "      <th id=\"T_e9a3f_level0_row2\" class=\"row_heading level0 row2\" >2</th>\n",
       "      <td id=\"T_e9a3f_row2_col0\" class=\"data row2 col0\" >Mar</td>\n",
       "      <td id=\"T_e9a3f_row2_col1\" class=\"data row2 col1\" >8</td>\n",
       "    </tr>\n",
       "    <tr>\n",
       "      <th id=\"T_e9a3f_level0_row3\" class=\"row_heading level0 row3\" >3</th>\n",
       "      <td id=\"T_e9a3f_row3_col0\" class=\"data row3 col0\" >Apr</td>\n",
       "      <td id=\"T_e9a3f_row3_col1\" class=\"data row3 col1\" >2</td>\n",
       "    </tr>\n",
       "    <tr>\n",
       "      <th id=\"T_e9a3f_level0_row4\" class=\"row_heading level0 row4\" >4</th>\n",
       "      <td id=\"T_e9a3f_row4_col0\" class=\"data row4 col0\" >May</td>\n",
       "      <td id=\"T_e9a3f_row4_col1\" class=\"data row4 col1\" >12</td>\n",
       "    </tr>\n",
       "    <tr>\n",
       "      <th id=\"T_e9a3f_level0_row5\" class=\"row_heading level0 row5\" >5</th>\n",
       "      <td id=\"T_e9a3f_row5_col0\" class=\"data row5 col0\" >Jun</td>\n",
       "      <td id=\"T_e9a3f_row5_col1\" class=\"data row5 col1\" >47</td>\n",
       "    </tr>\n",
       "    <tr>\n",
       "      <th id=\"T_e9a3f_level0_row6\" class=\"row_heading level0 row6\" >6</th>\n",
       "      <td id=\"T_e9a3f_row6_col0\" class=\"data row6 col0\" >Jul</td>\n",
       "      <td id=\"T_e9a3f_row6_col1\" class=\"data row6 col1\" >0</td>\n",
       "    </tr>\n",
       "    <tr>\n",
       "      <th id=\"T_e9a3f_level0_row7\" class=\"row_heading level0 row7\" >7</th>\n",
       "      <td id=\"T_e9a3f_row7_col0\" class=\"data row7 col0\" >Aug</td>\n",
       "      <td id=\"T_e9a3f_row7_col1\" class=\"data row7 col1\" >0</td>\n",
       "    </tr>\n",
       "    <tr>\n",
       "      <th id=\"T_e9a3f_level0_row8\" class=\"row_heading level0 row8\" >8</th>\n",
       "      <td id=\"T_e9a3f_row8_col0\" class=\"data row8 col0\" >Sep</td>\n",
       "      <td id=\"T_e9a3f_row8_col1\" class=\"data row8 col1\" >0</td>\n",
       "    </tr>\n",
       "    <tr>\n",
       "      <th id=\"T_e9a3f_level0_row9\" class=\"row_heading level0 row9\" >9</th>\n",
       "      <td id=\"T_e9a3f_row9_col0\" class=\"data row9 col0\" >Oct</td>\n",
       "      <td id=\"T_e9a3f_row9_col1\" class=\"data row9 col1\" >0</td>\n",
       "    </tr>\n",
       "    <tr>\n",
       "      <th id=\"T_e9a3f_level0_row10\" class=\"row_heading level0 row10\" >10</th>\n",
       "      <td id=\"T_e9a3f_row10_col0\" class=\"data row10 col0\" >Nov</td>\n",
       "      <td id=\"T_e9a3f_row10_col1\" class=\"data row10 col1\" >0</td>\n",
       "    </tr>\n",
       "    <tr>\n",
       "      <th id=\"T_e9a3f_level0_row11\" class=\"row_heading level0 row11\" >11</th>\n",
       "      <td id=\"T_e9a3f_row11_col0\" class=\"data row11 col0\" >Dec</td>\n",
       "      <td id=\"T_e9a3f_row11_col1\" class=\"data row11 col1\" >0</td>\n",
       "    </tr>\n",
       "  </tbody>\n",
       "</table>\n"
      ]
     },
     "metadata": {},
     "output_type": "display_data"
    }
   ],
   "source": [
    "CSS = \"\"\"\n",
    "div.cell:nth-child(5) .output {\n",
    "    flex-direction: row;\n",
    "}\n",
    "\"\"\"\n",
    "\n",
    "HTML('<style>{}</style>'.format(CSS))\n",
    "\n",
    "print('Productivity score (Apr)',month_df[month_df.index=='Apr']['productivity score'].values)\n",
    "print('Productivity score (Jun)',month_df[month_df.index=='Jun']['productivity score'].values)\n",
    "\n",
    "apr_cmp = plt_df[plt_df['month picked'] == 'Apr']\n",
    "jun_cmp = plt_df[plt_df['month completed'] == 'Jun']\n",
    "\n",
    "# When was the case picked on apr completed was most on the cases on jun?\n",
    "\"\"\" \n",
    "    Most of the cases completed by Apr was picked on Apr itself and few on next month\n",
    "\"\"\"\n",
    "apr_grp = pd.DataFrame(apr_cmp.groupby('month completed')['Ticket No'].count())\n",
    "apr_grp.rename(columns={'Ticket No':'# Tickets'}, inplace= True)\n",
    "apr_grp.reset_index(inplace = True)\n",
    "\n",
    "# When was the cases completed on Jun picked up? \n",
    "\"\"\" \n",
    "    Most of the cases picked on Jun was completed by Jun itself but nearly 20% of the cases were picked on the first four monts\n",
    "\"\"\"\n",
    "jun_grp = pd.DataFrame(jun_cmp.groupby('month picked')['Ticket No'].count())\n",
    "jun_grp.rename(columns={'Ticket No':'# Tickets'}, inplace= True)\n",
    "jun_grp.reset_index(inplace = True)\n",
    "\n",
    "df1_styler = apr_grp.style.set_table_attributes(\"style='display:inline'\").set_caption('Tikcets picked on April')\n",
    "df2_styler = jun_grp.style.set_table_attributes(\"style='display:inline'\").set_caption('Tikcets completed on June')\n",
    "\n",
    "display_html(df1_styler._repr_html_()+df2_styler._repr_html_(), raw=True)\n"
   ]
  },
  {
   "cell_type": "markdown",
   "metadata": {},
   "source": [
    "## Category Analysis"
   ]
  },
  {
   "cell_type": "markdown",
   "metadata": {},
   "source": [
    "#### How many cases have been worked in each category and Sub-Category?"
   ]
  },
  {
   "cell_type": "code",
   "execution_count": 16,
   "metadata": {},
   "outputs": [
    {
     "data": {
      "application/vnd.plotly.v1+json": {
       "config": {
        "plotlyServerURL": "https://plot.ly"
       },
       "data": [
        {
         "branchvalues": "total",
         "domain": {
          "x": [
           0,
           1
          ],
          "y": [
           0,
           1
          ]
         },
         "hovertemplate": "labels=%{label}<br>No.of Tickets=%{value}<br>parent=%{parent}<br>id=%{id}<extra></extra>",
         "ids": [
          "Cyber Consultation/Access Management",
          "Cyber Consultation/Application Offboarding",
          "Cyber Consultation/BCP/DR",
          "Cyber Consultation/Database Security",
          "Cyber Consultation/Encryption",
          "Cyber Security Breach/Firewall",
          "Data Privacy/GDPR",
          "Data Privacy/HIPAA",
          "Data Leak/Insider Threat",
          "Cyber Security Breach/Malware Attack",
          "Cyber Consultation/Network Security",
          "Cyber Consultation/New Application Launch",
          "Security Gap/Obsolete Software",
          "Data Privacy/PCI-DSS",
          "Security Gap/Password non-expiry",
          "Data Leak/Phishing",
          "Data Privacy/Privacy Assessment",
          "Cyber Consultation/Secure Development",
          "Cyber Consultation/Segregation of Duties",
          "Cyber Security Breach/Spyware",
          "Cyber Consultation/Third Party Engagement",
          "Cyber Security Breach/Trojan Attack",
          "Security Gap/Unauthorized access",
          "Security Gap/Unauthorized software",
          "Data Leak/Vishing",
          "Cyber Consultation",
          "Cyber Security Breach",
          "Data Leak",
          "Data Privacy",
          "Security Gap"
         ],
         "labels": [
          "Access Management",
          "Application Offboarding",
          "BCP/DR",
          "Database Security",
          "Encryption",
          "Firewall",
          "GDPR",
          "HIPAA",
          "Insider Threat",
          "Malware Attack",
          "Network Security",
          "New Application Launch",
          "Obsolete Software",
          "PCI-DSS",
          "Password non-expiry",
          "Phishing",
          "Privacy Assessment",
          "Secure Development",
          "Segregation of Duties",
          "Spyware",
          "Third Party Engagement",
          "Trojan Attack",
          "Unauthorized access",
          "Unauthorized software",
          "Vishing",
          "Cyber Consultation",
          "Cyber Security Breach",
          "Data Leak",
          "Data Privacy",
          "Security Gap"
         ],
         "name": "",
         "parents": [
          "Cyber Consultation",
          "Cyber Consultation",
          "Cyber Consultation",
          "Cyber Consultation",
          "Cyber Consultation",
          "Cyber Security Breach",
          "Data Privacy",
          "Data Privacy",
          "Data Leak",
          "Cyber Security Breach",
          "Cyber Consultation",
          "Cyber Consultation",
          "Security Gap",
          "Data Privacy",
          "Security Gap",
          "Data Leak",
          "Data Privacy",
          "Cyber Consultation",
          "Cyber Consultation",
          "Cyber Security Breach",
          "Cyber Consultation",
          "Cyber Security Breach",
          "Security Gap",
          "Security Gap",
          "Data Leak",
          "",
          "",
          "",
          "",
          ""
         ],
         "type": "sunburst",
         "values": [
          14,
          24,
          29,
          11,
          7,
          34,
          51,
          60,
          53,
          34,
          1,
          28,
          18,
          48,
          13,
          40,
          47,
          12,
          16,
          16,
          9,
          10,
          12,
          8,
          20,
          151,
          94,
          113,
          206,
          51
         ]
        }
       ],
       "layout": {
        "height": 600,
        "legend": {
         "tracegroupgap": 0
        },
        "margin": {
         "t": 60
        },
        "sunburstcolorway": [
         "rgb(102, 197, 204)",
         "rgb(246, 207, 113)",
         "rgb(248, 156, 116)",
         "rgb(220, 176, 242)",
         "rgb(135, 197, 95)",
         "rgb(158, 185, 243)",
         "rgb(254, 136, 177)",
         "rgb(201, 219, 116)",
         "rgb(139, 224, 164)",
         "rgb(180, 151, 231)",
         "rgb(179, 179, 179)"
        ],
        "template": {
         "data": {
          "bar": [
           {
            "error_x": {
             "color": "#2a3f5f"
            },
            "error_y": {
             "color": "#2a3f5f"
            },
            "marker": {
             "line": {
              "color": "#E5ECF6",
              "width": 0.5
             },
             "pattern": {
              "fillmode": "overlay",
              "size": 10,
              "solidity": 0.2
             }
            },
            "type": "bar"
           }
          ],
          "barpolar": [
           {
            "marker": {
             "line": {
              "color": "#E5ECF6",
              "width": 0.5
             },
             "pattern": {
              "fillmode": "overlay",
              "size": 10,
              "solidity": 0.2
             }
            },
            "type": "barpolar"
           }
          ],
          "carpet": [
           {
            "aaxis": {
             "endlinecolor": "#2a3f5f",
             "gridcolor": "white",
             "linecolor": "white",
             "minorgridcolor": "white",
             "startlinecolor": "#2a3f5f"
            },
            "baxis": {
             "endlinecolor": "#2a3f5f",
             "gridcolor": "white",
             "linecolor": "white",
             "minorgridcolor": "white",
             "startlinecolor": "#2a3f5f"
            },
            "type": "carpet"
           }
          ],
          "choropleth": [
           {
            "colorbar": {
             "outlinewidth": 0,
             "ticks": ""
            },
            "type": "choropleth"
           }
          ],
          "contour": [
           {
            "colorbar": {
             "outlinewidth": 0,
             "ticks": ""
            },
            "colorscale": [
             [
              0,
              "#0d0887"
             ],
             [
              0.1111111111111111,
              "#46039f"
             ],
             [
              0.2222222222222222,
              "#7201a8"
             ],
             [
              0.3333333333333333,
              "#9c179e"
             ],
             [
              0.4444444444444444,
              "#bd3786"
             ],
             [
              0.5555555555555556,
              "#d8576b"
             ],
             [
              0.6666666666666666,
              "#ed7953"
             ],
             [
              0.7777777777777778,
              "#fb9f3a"
             ],
             [
              0.8888888888888888,
              "#fdca26"
             ],
             [
              1,
              "#f0f921"
             ]
            ],
            "type": "contour"
           }
          ],
          "contourcarpet": [
           {
            "colorbar": {
             "outlinewidth": 0,
             "ticks": ""
            },
            "type": "contourcarpet"
           }
          ],
          "heatmap": [
           {
            "colorbar": {
             "outlinewidth": 0,
             "ticks": ""
            },
            "colorscale": [
             [
              0,
              "#0d0887"
             ],
             [
              0.1111111111111111,
              "#46039f"
             ],
             [
              0.2222222222222222,
              "#7201a8"
             ],
             [
              0.3333333333333333,
              "#9c179e"
             ],
             [
              0.4444444444444444,
              "#bd3786"
             ],
             [
              0.5555555555555556,
              "#d8576b"
             ],
             [
              0.6666666666666666,
              "#ed7953"
             ],
             [
              0.7777777777777778,
              "#fb9f3a"
             ],
             [
              0.8888888888888888,
              "#fdca26"
             ],
             [
              1,
              "#f0f921"
             ]
            ],
            "type": "heatmap"
           }
          ],
          "heatmapgl": [
           {
            "colorbar": {
             "outlinewidth": 0,
             "ticks": ""
            },
            "colorscale": [
             [
              0,
              "#0d0887"
             ],
             [
              0.1111111111111111,
              "#46039f"
             ],
             [
              0.2222222222222222,
              "#7201a8"
             ],
             [
              0.3333333333333333,
              "#9c179e"
             ],
             [
              0.4444444444444444,
              "#bd3786"
             ],
             [
              0.5555555555555556,
              "#d8576b"
             ],
             [
              0.6666666666666666,
              "#ed7953"
             ],
             [
              0.7777777777777778,
              "#fb9f3a"
             ],
             [
              0.8888888888888888,
              "#fdca26"
             ],
             [
              1,
              "#f0f921"
             ]
            ],
            "type": "heatmapgl"
           }
          ],
          "histogram": [
           {
            "marker": {
             "pattern": {
              "fillmode": "overlay",
              "size": 10,
              "solidity": 0.2
             }
            },
            "type": "histogram"
           }
          ],
          "histogram2d": [
           {
            "colorbar": {
             "outlinewidth": 0,
             "ticks": ""
            },
            "colorscale": [
             [
              0,
              "#0d0887"
             ],
             [
              0.1111111111111111,
              "#46039f"
             ],
             [
              0.2222222222222222,
              "#7201a8"
             ],
             [
              0.3333333333333333,
              "#9c179e"
             ],
             [
              0.4444444444444444,
              "#bd3786"
             ],
             [
              0.5555555555555556,
              "#d8576b"
             ],
             [
              0.6666666666666666,
              "#ed7953"
             ],
             [
              0.7777777777777778,
              "#fb9f3a"
             ],
             [
              0.8888888888888888,
              "#fdca26"
             ],
             [
              1,
              "#f0f921"
             ]
            ],
            "type": "histogram2d"
           }
          ],
          "histogram2dcontour": [
           {
            "colorbar": {
             "outlinewidth": 0,
             "ticks": ""
            },
            "colorscale": [
             [
              0,
              "#0d0887"
             ],
             [
              0.1111111111111111,
              "#46039f"
             ],
             [
              0.2222222222222222,
              "#7201a8"
             ],
             [
              0.3333333333333333,
              "#9c179e"
             ],
             [
              0.4444444444444444,
              "#bd3786"
             ],
             [
              0.5555555555555556,
              "#d8576b"
             ],
             [
              0.6666666666666666,
              "#ed7953"
             ],
             [
              0.7777777777777778,
              "#fb9f3a"
             ],
             [
              0.8888888888888888,
              "#fdca26"
             ],
             [
              1,
              "#f0f921"
             ]
            ],
            "type": "histogram2dcontour"
           }
          ],
          "mesh3d": [
           {
            "colorbar": {
             "outlinewidth": 0,
             "ticks": ""
            },
            "type": "mesh3d"
           }
          ],
          "parcoords": [
           {
            "line": {
             "colorbar": {
              "outlinewidth": 0,
              "ticks": ""
             }
            },
            "type": "parcoords"
           }
          ],
          "pie": [
           {
            "automargin": true,
            "type": "pie"
           }
          ],
          "scatter": [
           {
            "fillpattern": {
             "fillmode": "overlay",
             "size": 10,
             "solidity": 0.2
            },
            "type": "scatter"
           }
          ],
          "scatter3d": [
           {
            "line": {
             "colorbar": {
              "outlinewidth": 0,
              "ticks": ""
             }
            },
            "marker": {
             "colorbar": {
              "outlinewidth": 0,
              "ticks": ""
             }
            },
            "type": "scatter3d"
           }
          ],
          "scattercarpet": [
           {
            "marker": {
             "colorbar": {
              "outlinewidth": 0,
              "ticks": ""
             }
            },
            "type": "scattercarpet"
           }
          ],
          "scattergeo": [
           {
            "marker": {
             "colorbar": {
              "outlinewidth": 0,
              "ticks": ""
             }
            },
            "type": "scattergeo"
           }
          ],
          "scattergl": [
           {
            "marker": {
             "colorbar": {
              "outlinewidth": 0,
              "ticks": ""
             }
            },
            "type": "scattergl"
           }
          ],
          "scattermapbox": [
           {
            "marker": {
             "colorbar": {
              "outlinewidth": 0,
              "ticks": ""
             }
            },
            "type": "scattermapbox"
           }
          ],
          "scatterpolar": [
           {
            "marker": {
             "colorbar": {
              "outlinewidth": 0,
              "ticks": ""
             }
            },
            "type": "scatterpolar"
           }
          ],
          "scatterpolargl": [
           {
            "marker": {
             "colorbar": {
              "outlinewidth": 0,
              "ticks": ""
             }
            },
            "type": "scatterpolargl"
           }
          ],
          "scatterternary": [
           {
            "marker": {
             "colorbar": {
              "outlinewidth": 0,
              "ticks": ""
             }
            },
            "type": "scatterternary"
           }
          ],
          "surface": [
           {
            "colorbar": {
             "outlinewidth": 0,
             "ticks": ""
            },
            "colorscale": [
             [
              0,
              "#0d0887"
             ],
             [
              0.1111111111111111,
              "#46039f"
             ],
             [
              0.2222222222222222,
              "#7201a8"
             ],
             [
              0.3333333333333333,
              "#9c179e"
             ],
             [
              0.4444444444444444,
              "#bd3786"
             ],
             [
              0.5555555555555556,
              "#d8576b"
             ],
             [
              0.6666666666666666,
              "#ed7953"
             ],
             [
              0.7777777777777778,
              "#fb9f3a"
             ],
             [
              0.8888888888888888,
              "#fdca26"
             ],
             [
              1,
              "#f0f921"
             ]
            ],
            "type": "surface"
           }
          ],
          "table": [
           {
            "cells": {
             "fill": {
              "color": "#EBF0F8"
             },
             "line": {
              "color": "white"
             }
            },
            "header": {
             "fill": {
              "color": "#C8D4E3"
             },
             "line": {
              "color": "white"
             }
            },
            "type": "table"
           }
          ]
         },
         "layout": {
          "annotationdefaults": {
           "arrowcolor": "#2a3f5f",
           "arrowhead": 0,
           "arrowwidth": 1
          },
          "autotypenumbers": "strict",
          "coloraxis": {
           "colorbar": {
            "outlinewidth": 0,
            "ticks": ""
           }
          },
          "colorscale": {
           "diverging": [
            [
             0,
             "#8e0152"
            ],
            [
             0.1,
             "#c51b7d"
            ],
            [
             0.2,
             "#de77ae"
            ],
            [
             0.3,
             "#f1b6da"
            ],
            [
             0.4,
             "#fde0ef"
            ],
            [
             0.5,
             "#f7f7f7"
            ],
            [
             0.6,
             "#e6f5d0"
            ],
            [
             0.7,
             "#b8e186"
            ],
            [
             0.8,
             "#7fbc41"
            ],
            [
             0.9,
             "#4d9221"
            ],
            [
             1,
             "#276419"
            ]
           ],
           "sequential": [
            [
             0,
             "#0d0887"
            ],
            [
             0.1111111111111111,
             "#46039f"
            ],
            [
             0.2222222222222222,
             "#7201a8"
            ],
            [
             0.3333333333333333,
             "#9c179e"
            ],
            [
             0.4444444444444444,
             "#bd3786"
            ],
            [
             0.5555555555555556,
             "#d8576b"
            ],
            [
             0.6666666666666666,
             "#ed7953"
            ],
            [
             0.7777777777777778,
             "#fb9f3a"
            ],
            [
             0.8888888888888888,
             "#fdca26"
            ],
            [
             1,
             "#f0f921"
            ]
           ],
           "sequentialminus": [
            [
             0,
             "#0d0887"
            ],
            [
             0.1111111111111111,
             "#46039f"
            ],
            [
             0.2222222222222222,
             "#7201a8"
            ],
            [
             0.3333333333333333,
             "#9c179e"
            ],
            [
             0.4444444444444444,
             "#bd3786"
            ],
            [
             0.5555555555555556,
             "#d8576b"
            ],
            [
             0.6666666666666666,
             "#ed7953"
            ],
            [
             0.7777777777777778,
             "#fb9f3a"
            ],
            [
             0.8888888888888888,
             "#fdca26"
            ],
            [
             1,
             "#f0f921"
            ]
           ]
          },
          "colorway": [
           "#636efa",
           "#EF553B",
           "#00cc96",
           "#ab63fa",
           "#FFA15A",
           "#19d3f3",
           "#FF6692",
           "#B6E880",
           "#FF97FF",
           "#FECB52"
          ],
          "font": {
           "color": "#2a3f5f"
          },
          "geo": {
           "bgcolor": "white",
           "lakecolor": "white",
           "landcolor": "#E5ECF6",
           "showlakes": true,
           "showland": true,
           "subunitcolor": "white"
          },
          "hoverlabel": {
           "align": "left"
          },
          "hovermode": "closest",
          "mapbox": {
           "style": "light"
          },
          "paper_bgcolor": "white",
          "plot_bgcolor": "#E5ECF6",
          "polar": {
           "angularaxis": {
            "gridcolor": "white",
            "linecolor": "white",
            "ticks": ""
           },
           "bgcolor": "#E5ECF6",
           "radialaxis": {
            "gridcolor": "white",
            "linecolor": "white",
            "ticks": ""
           }
          },
          "scene": {
           "xaxis": {
            "backgroundcolor": "#E5ECF6",
            "gridcolor": "white",
            "gridwidth": 2,
            "linecolor": "white",
            "showbackground": true,
            "ticks": "",
            "zerolinecolor": "white"
           },
           "yaxis": {
            "backgroundcolor": "#E5ECF6",
            "gridcolor": "white",
            "gridwidth": 2,
            "linecolor": "white",
            "showbackground": true,
            "ticks": "",
            "zerolinecolor": "white"
           },
           "zaxis": {
            "backgroundcolor": "#E5ECF6",
            "gridcolor": "white",
            "gridwidth": 2,
            "linecolor": "white",
            "showbackground": true,
            "ticks": "",
            "zerolinecolor": "white"
           }
          },
          "shapedefaults": {
           "line": {
            "color": "#2a3f5f"
           }
          },
          "ternary": {
           "aaxis": {
            "gridcolor": "white",
            "linecolor": "white",
            "ticks": ""
           },
           "baxis": {
            "gridcolor": "white",
            "linecolor": "white",
            "ticks": ""
           },
           "bgcolor": "#E5ECF6",
           "caxis": {
            "gridcolor": "white",
            "linecolor": "white",
            "ticks": ""
           }
          },
          "title": {
           "x": 0.05
          },
          "xaxis": {
           "automargin": true,
           "gridcolor": "white",
           "linecolor": "white",
           "ticks": "",
           "title": {
            "standoff": 15
           },
           "zerolinecolor": "white",
           "zerolinewidth": 2
          },
          "yaxis": {
           "automargin": true,
           "gridcolor": "white",
           "linecolor": "white",
           "ticks": "",
           "title": {
            "standoff": 15
           },
           "zerolinecolor": "white",
           "zerolinewidth": 2
          }
         }
        },
        "width": 800
       }
      }
     },
     "metadata": {},
     "output_type": "display_data"
    }
   ],
   "source": [
    "sun = pd.DataFrame(plt_df.groupby(['Category','Sub Category'])['Ticket No'].count())\n",
    "sun.reset_index(inplace= True)\n",
    "sun.rename(columns={'Ticket No':'No.of Tickets'}, inplace= True)\n",
    "sun.to_excel('sunburst.xlsx')\n",
    "\n",
    "px.sunburst(sun, path=['Category', 'Sub Category'], values='No.of Tickets',\n",
    "            color_discrete_sequence=px.colors.qualitative.Pastel,\n",
    "            width=800, height=600)"
   ]
  },
  {
   "cell_type": "markdown",
   "metadata": {},
   "source": [
    "### How many cases that took long days to complete?\n",
    "\n",
    "+ 81 tickets took longer than the usual days of completion"
   ]
  },
  {
   "cell_type": "code",
   "execution_count": 52,
   "metadata": {},
   "outputs": [
    {
     "data": {
      "image/png": "[encoded data removed]",
      "text/plain": [
       "<Figure size 640x480 with 1 Axes>"
      ]
     },
     "metadata": {},
     "output_type": "display_data"
    },
    {
     "name": "stdout",
     "output_type": "stream",
     "text": [
      "Number of Tickets took long days : 81\n"
     ]
    }
   ],
   "source": [
    "## IQR method\n",
    "\n",
    "# Box plot to visualize outliers\n",
    "plt.boxplot(plt_df['Days to complete'])\n",
    "plt.show()\n",
    "\n",
    "# find the outlier data\n",
    "Q1 = plt_df['Days to complete'].quantile(0.25)\n",
    "Q3 = plt_df['Days to complete'].quantile(0.75)\n",
    "IQR = Q3 - Q1\n",
    "\n",
    "# Define lower and upper bounds\n",
    "lower_bound = Q1 - 1.5 * IQR\n",
    "upper_bound = Q3 + 1.5 * IQR\n",
    "\n",
    "long_days = plt_df[(plt_df['Days to complete']<lower_bound) | (plt_df['Days to complete']>upper_bound)]\n",
    "print('Number of Tickets took long days :',long_days.shape[0])\n",
    "\n"
   ]
  },
  {
   "cell_type": "code",
   "execution_count": 51,
   "metadata": {},
   "outputs": [
    {
     "name": "stdout",
     "output_type": "stream",
     "text": [
      "Number of Tickets took long days : 38\n"
     ]
    },
    {
     "data": {
      "image/png": "[encoded data removed]",
      "text/plain": [
       "<Figure size 640x480 with 1 Axes>"
      ]
     },
     "metadata": {},
     "output_type": "display_data"
    }
   ],
   "source": [
    "# Z-score method\n",
    "\n",
    "plt_df['Z-score']= zscore(plt_df['Days to complete'])\n",
    "outliers = plt_df[abs(plt_df['Z-score']) > 2]\n",
    "sns.histplot(plt_df['Z-score'], kde=True, color='blue', bins=10)\n",
    "print('Number of Tickets took long days :',outliers.shape[0])"
   ]
  },
  {
   "cell_type": "markdown",
   "metadata": {},
   "source": [
    "### List the number of cases in each sub category that took long days\n",
    "\n",
    "+ 20% of the tickets that took long days were Insider Threat with avg. day of 109 days to complete\n",
    "+ Obsolete Software almost took 5.3 months to complete\n",
    "\n",
    "+ some of the sub category that complete on time:\n",
    "    - Encryption\t\n",
    "    - Network Security\t\n",
    "    - Secure Development\t\n",
    "    - Unauthorized access\t\n",
    "    - Unauthorized software\t"
   ]
  },
  {
   "cell_type": "code",
   "execution_count": 49,
   "metadata": {},
   "outputs": [
    {
     "data": {
      "text/html": [
       "<div>\n",
       "<style scoped>\n",
       "    .dataframe tbody tr th:only-of-type {\n",
       "        vertical-align: middle;\n",
       "    }\n",
       "\n",
       "    .dataframe tbody tr th {\n",
       "        vertical-align: top;\n",
       "    }\n",
       "\n",
       "    .dataframe thead th {\n",
       "        text-align: right;\n",
       "    }\n",
       "</style>\n",
       "<table border=\"1\" class=\"dataframe\">\n",
       "  <thead>\n",
       "    <tr style=\"text-align: right;\">\n",
       "      <th></th>\n",
       "      <th>Sub Category</th>\n",
       "      <th>Ticket_long_days</th>\n",
       "      <th>DC_long_days</th>\n",
       "    </tr>\n",
       "  </thead>\n",
       "  <tbody>\n",
       "    <tr>\n",
       "      <th>10</th>\n",
       "      <td>Obsolete Software</td>\n",
       "      <td>4</td>\n",
       "      <td>163</td>\n",
       "    </tr>\n",
       "    <tr>\n",
       "      <th>3</th>\n",
       "      <td>Database Security</td>\n",
       "      <td>1</td>\n",
       "      <td>115</td>\n",
       "    </tr>\n",
       "    <tr>\n",
       "      <th>7</th>\n",
       "      <td>Insider Threat</td>\n",
       "      <td>13</td>\n",
       "      <td>109</td>\n",
       "    </tr>\n",
       "    <tr>\n",
       "      <th>15</th>\n",
       "      <td>Segregation of Duties</td>\n",
       "      <td>2</td>\n",
       "      <td>108</td>\n",
       "    </tr>\n",
       "    <tr>\n",
       "      <th>2</th>\n",
       "      <td>BCP/DR</td>\n",
       "      <td>4</td>\n",
       "      <td>105</td>\n",
       "    </tr>\n",
       "    <tr>\n",
       "      <th>11</th>\n",
       "      <td>PCI-DSS</td>\n",
       "      <td>2</td>\n",
       "      <td>104</td>\n",
       "    </tr>\n",
       "    <tr>\n",
       "      <th>17</th>\n",
       "      <td>Third Party Engagement</td>\n",
       "      <td>2</td>\n",
       "      <td>95</td>\n",
       "    </tr>\n",
       "    <tr>\n",
       "      <th>9</th>\n",
       "      <td>New Application Launch</td>\n",
       "      <td>2</td>\n",
       "      <td>92</td>\n",
       "    </tr>\n",
       "    <tr>\n",
       "      <th>5</th>\n",
       "      <td>GDPR</td>\n",
       "      <td>8</td>\n",
       "      <td>91</td>\n",
       "    </tr>\n",
       "    <tr>\n",
       "      <th>13</th>\n",
       "      <td>Phishing</td>\n",
       "      <td>8</td>\n",
       "      <td>84</td>\n",
       "    </tr>\n",
       "    <tr>\n",
       "      <th>1</th>\n",
       "      <td>Application Offboarding</td>\n",
       "      <td>4</td>\n",
       "      <td>79</td>\n",
       "    </tr>\n",
       "    <tr>\n",
       "      <th>14</th>\n",
       "      <td>Privacy Assessment</td>\n",
       "      <td>8</td>\n",
       "      <td>77</td>\n",
       "    </tr>\n",
       "    <tr>\n",
       "      <th>8</th>\n",
       "      <td>Malware Attack</td>\n",
       "      <td>6</td>\n",
       "      <td>76</td>\n",
       "    </tr>\n",
       "    <tr>\n",
       "      <th>6</th>\n",
       "      <td>HIPAA</td>\n",
       "      <td>4</td>\n",
       "      <td>71</td>\n",
       "    </tr>\n",
       "    <tr>\n",
       "      <th>16</th>\n",
       "      <td>Spyware</td>\n",
       "      <td>2</td>\n",
       "      <td>69</td>\n",
       "    </tr>\n",
       "    <tr>\n",
       "      <th>0</th>\n",
       "      <td>Access Management</td>\n",
       "      <td>2</td>\n",
       "      <td>67</td>\n",
       "    </tr>\n",
       "    <tr>\n",
       "      <th>19</th>\n",
       "      <td>Vishing</td>\n",
       "      <td>3</td>\n",
       "      <td>59</td>\n",
       "    </tr>\n",
       "    <tr>\n",
       "      <th>18</th>\n",
       "      <td>Trojan Attack</td>\n",
       "      <td>2</td>\n",
       "      <td>54</td>\n",
       "    </tr>\n",
       "    <tr>\n",
       "      <th>12</th>\n",
       "      <td>Password non-expiry</td>\n",
       "      <td>1</td>\n",
       "      <td>34</td>\n",
       "    </tr>\n",
       "    <tr>\n",
       "      <th>4</th>\n",
       "      <td>Firewall</td>\n",
       "      <td>3</td>\n",
       "      <td>33</td>\n",
       "    </tr>\n",
       "  </tbody>\n",
       "</table>\n",
       "</div>"
      ],
      "text/plain": [
       "               Sub Category  Ticket_long_days  DC_long_days\n",
       "10        Obsolete Software                 4           163\n",
       "3         Database Security                 1           115\n",
       "7            Insider Threat                13           109\n",
       "15    Segregation of Duties                 2           108\n",
       "2                    BCP/DR                 4           105\n",
       "11                  PCI-DSS                 2           104\n",
       "17   Third Party Engagement                 2            95\n",
       "9    New Application Launch                 2            92\n",
       "5                      GDPR                 8            91\n",
       "13                 Phishing                 8            84\n",
       "1   Application Offboarding                 4            79\n",
       "14       Privacy Assessment                 8            77\n",
       "8            Malware Attack                 6            76\n",
       "6                     HIPAA                 4            71\n",
       "16                  Spyware                 2            69\n",
       "0         Access Management                 2            67\n",
       "19                  Vishing                 3            59\n",
       "18            Trojan Attack                 2            54\n",
       "12      Password non-expiry                 1            34\n",
       "4                  Firewall                 3            33"
      ]
     },
     "execution_count": 49,
     "metadata": {},
     "output_type": "execute_result"
    }
   ],
   "source": [
    "# Create data to analyse the \n",
    "long_days_gp = pd.DataFrame(long_days.groupby('Sub Category').agg({\n",
    "    'Ticket No': 'count',\n",
    "    'Days to complete': 'mean'\n",
    "}))\n",
    "long_days_gp['Days to complete'] = long_days_gp['Days to complete'].astype(int)\n",
    "long_days_gp.rename(columns={'Ticket No': 'Ticket_long_days','Days to complete':'DC_long_days'},inplace= True)\n",
    "long_days_gp.reset_index(inplace= True)\n",
    "long_days_gp.sort_values('DC_long_days', ascending= False)\n"
   ]
  },
  {
   "cell_type": "markdown",
   "metadata": {},
   "source": [
    "#### What is the time taken to complete each sub category?\n",
    "\n",
    "+ The HIPPA (Health Insurance Portability and Accountability Act) tickets were completed in 4 days\n",
    "+ With almost equal number of tickets on GDPR (General Data Protection Regulation)\twere completed in 3 days\n",
    "+ The password non-expiry tickets(#tickets 12) was unusal days to complete."
   ]
  },
  {
   "cell_type": "code",
   "execution_count": 53,
   "metadata": {},
   "outputs": [],
   "source": [
    "# Create data to analysis sub category\n",
    "sub_cat = plt_df[(plt_df['Days to complete']>=lower_bound) & (plt_df['Days to complete']<=upper_bound)]\n",
    "sub_cat_df = pd.DataFrame(sub_cat.groupby('Sub Category').agg({\n",
    "    'Ticket No': 'count',\n",
    "    'Days to complete': 'mean'\n",
    "}))\n",
    "sub_cat_df['Days to complete'] = sub_cat_df['Days to complete'].astype(int)\n",
    "sub_cat_df.rename(columns={'Ticket No': 'usual tickets','Days to complete':'usual days'},inplace= True)\n",
    "sub_cat_df.reset_index(inplace= True)\n",
    "sub_cat_df\n",
    "\n",
    "\n",
    "sub_cat_gp = pd.merge(long_days_gp,sub_cat_df, on='Sub Category', how='outer')\n",
    "sub_cat_gp.replace(np.NaN,0,inplace=True)\n",
    "sub_cat_gp['total tickets'] = sub_cat_gp['Ticket_long_days'] + sub_cat_gp['usual tickets']\n",
    "\n",
    "sub_cat_gp.to_excel('./Data/Sub category.xlsx')\n"
   ]
  },
  {
   "cell_type": "code",
   "execution_count": 47,
   "metadata": {},
   "outputs": [
    {
     "data": {
      "image/png": "[encoded data removed]",
      "text/plain": [
       "<Figure size 1500x600 with 2 Axes>"
      ]
     },
     "metadata": {},
     "output_type": "display_data"
    }
   ],
   "source": [
    "fig, ax = plt.subplots(figsize=(15, 6))\n",
    "\n",
    "# Create a line plot\n",
    "ax.bar(sub_cat_gp['Sub Category'], sub_cat_gp['total tickets'], color='grey', alpha=0.5, label ='Total tickets')  # alpha controls transparency\n",
    "\n",
    "\n",
    "ax2 = ax.twinx()\n",
    "# Create a bar plot\n",
    "ax2.plot(sub_cat_gp['Sub Category'], sub_cat_gp['usual days'], color='#5DBB63', label='Days to complete',marker='o')\n",
    "\n",
    "# Annotate the line plot\n",
    "for i, value in enumerate(sub_cat_gp['usual days']):\n",
    "    ax2.text(i, value, str(value), ha='center', va='bottom')\n",
    "\n",
    "\n",
    "# Set labels and title\n",
    "ax.set_xticks(sub_cat_gp.index)\n",
    "ax.set_xticklabels(sub_cat_gp['Sub Category'],rotation = 90)\n",
    "\n",
    "ax.set_ylabel('Total tickets')\n",
    "ax2.set(yticks=[])\n",
    "ax2.set_title('Days to complete for each sub category (without outliers)',fontsize=10, color = '#818589')\n",
    "#ax2.set_ylabel('Days to complete')\n",
    "\n",
    "sns.despine(left=True)\n",
    "# Add legend\n",
    "ax.legend()\n",
    "ax2.legend()\n",
    "\n",
    "# Show the plot\n",
    "plt.show()"
   ]
  },
  {
   "cell_type": "markdown",
   "metadata": {},
   "source": [
    "#### Did the priority of the password-expiry tickets had an effect on days of completion?\n",
    "\n",
    "+ There is no contribution by the priority to the days of completion\n",
    "+ for all 3 types of priority the Average days to completion is near a week"
   ]
  },
  {
   "cell_type": "code",
   "execution_count": 22,
   "metadata": {},
   "outputs": [
    {
     "data": {
      "text/html": [
       "<div>\n",
       "<style scoped>\n",
       "    .dataframe tbody tr th:only-of-type {\n",
       "        vertical-align: middle;\n",
       "    }\n",
       "\n",
       "    .dataframe tbody tr th {\n",
       "        vertical-align: top;\n",
       "    }\n",
       "\n",
       "    .dataframe thead th {\n",
       "        text-align: right;\n",
       "    }\n",
       "</style>\n",
       "<table border=\"1\" class=\"dataframe\">\n",
       "  <thead>\n",
       "    <tr style=\"text-align: right;\">\n",
       "      <th></th>\n",
       "      <th>Priority</th>\n",
       "      <th>Ticket count</th>\n",
       "      <th>Avg. Days to complete</th>\n",
       "    </tr>\n",
       "  </thead>\n",
       "  <tbody>\n",
       "    <tr>\n",
       "      <th>1</th>\n",
       "      <td>Low</td>\n",
       "      <td>6</td>\n",
       "      <td>10</td>\n",
       "    </tr>\n",
       "    <tr>\n",
       "      <th>2</th>\n",
       "      <td>Medium</td>\n",
       "      <td>4</td>\n",
       "      <td>9</td>\n",
       "    </tr>\n",
       "    <tr>\n",
       "      <th>0</th>\n",
       "      <td>High</td>\n",
       "      <td>2</td>\n",
       "      <td>7</td>\n",
       "    </tr>\n",
       "  </tbody>\n",
       "</table>\n",
       "</div>"
      ],
      "text/plain": [
       "  Priority  Ticket count  Avg. Days to complete\n",
       "1      Low             6                     10\n",
       "2   Medium             4                      9\n",
       "0     High             2                      7"
      ]
     },
     "execution_count": 22,
     "metadata": {},
     "output_type": "execute_result"
    }
   ],
   "source": [
    "pass_exp = sub_cat[sub_cat['Sub Category'] == 'Password non-expiry']\n",
    "password = pass_exp.groupby('Priority').agg({\n",
    "    'Ticket No': 'count',\n",
    "    'Days to complete': 'mean'\n",
    "})\n",
    "password['Days to complete'] = password['Days to complete'].astype(int)\n",
    "password.rename(columns={'Ticket No': 'Ticket count','Days to complete':'Avg. Days to complete'},inplace= True)\n",
    "password.reset_index(inplace= True)\n",
    "\n",
    "password.sort_values('Ticket count',ascending= False)"
   ]
  },
  {
   "cell_type": "markdown",
   "metadata": {},
   "source": [
    "#### Which sub category had the most high priority tickets?"
   ]
  },
  {
   "cell_type": "code",
   "execution_count": 23,
   "metadata": {},
   "outputs": [
    {
     "name": "stdout",
     "output_type": "stream",
     "text": [
      "Total High priority tickets:  291\n"
     ]
    },
    {
     "data": {
      "text/html": [
       "<div>\n",
       "<style scoped>\n",
       "    .dataframe tbody tr th:only-of-type {\n",
       "        vertical-align: middle;\n",
       "    }\n",
       "\n",
       "    .dataframe tbody tr th {\n",
       "        vertical-align: top;\n",
       "    }\n",
       "\n",
       "    .dataframe thead th {\n",
       "        text-align: right;\n",
       "    }\n",
       "</style>\n",
       "<table border=\"1\" class=\"dataframe\">\n",
       "  <thead>\n",
       "    <tr style=\"text-align: right;\">\n",
       "      <th></th>\n",
       "      <th>Sub Category</th>\n",
       "      <th>Ticket No</th>\n",
       "    </tr>\n",
       "  </thead>\n",
       "  <tbody>\n",
       "    <tr>\n",
       "      <th>5</th>\n",
       "      <td>Firewall</td>\n",
       "      <td>34</td>\n",
       "    </tr>\n",
       "    <tr>\n",
       "      <th>9</th>\n",
       "      <td>Malware Attack</td>\n",
       "      <td>34</td>\n",
       "    </tr>\n",
       "    <tr>\n",
       "      <th>6</th>\n",
       "      <td>GDPR</td>\n",
       "      <td>30</td>\n",
       "    </tr>\n",
       "    <tr>\n",
       "      <th>8</th>\n",
       "      <td>Insider Threat</td>\n",
       "      <td>25</td>\n",
       "    </tr>\n",
       "    <tr>\n",
       "      <th>7</th>\n",
       "      <td>HIPAA</td>\n",
       "      <td>24</td>\n",
       "    </tr>\n",
       "    <tr>\n",
       "      <th>14</th>\n",
       "      <td>Phishing</td>\n",
       "      <td>17</td>\n",
       "    </tr>\n",
       "    <tr>\n",
       "      <th>18</th>\n",
       "      <td>Spyware</td>\n",
       "      <td>16</td>\n",
       "    </tr>\n",
       "    <tr>\n",
       "      <th>2</th>\n",
       "      <td>BCP/DR</td>\n",
       "      <td>15</td>\n",
       "    </tr>\n",
       "    <tr>\n",
       "      <th>12</th>\n",
       "      <td>PCI-DSS</td>\n",
       "      <td>14</td>\n",
       "    </tr>\n",
       "    <tr>\n",
       "      <th>1</th>\n",
       "      <td>Application Offboarding</td>\n",
       "      <td>12</td>\n",
       "    </tr>\n",
       "    <tr>\n",
       "      <th>15</th>\n",
       "      <td>Privacy Assessment</td>\n",
       "      <td>11</td>\n",
       "    </tr>\n",
       "    <tr>\n",
       "      <th>20</th>\n",
       "      <td>Trojan Attack</td>\n",
       "      <td>10</td>\n",
       "    </tr>\n",
       "    <tr>\n",
       "      <th>11</th>\n",
       "      <td>Obsolete Software</td>\n",
       "      <td>8</td>\n",
       "    </tr>\n",
       "    <tr>\n",
       "      <th>23</th>\n",
       "      <td>Vishing</td>\n",
       "      <td>7</td>\n",
       "    </tr>\n",
       "    <tr>\n",
       "      <th>3</th>\n",
       "      <td>Database Security</td>\n",
       "      <td>5</td>\n",
       "    </tr>\n",
       "    <tr>\n",
       "      <th>21</th>\n",
       "      <td>Unauthorized access</td>\n",
       "      <td>5</td>\n",
       "    </tr>\n",
       "    <tr>\n",
       "      <th>10</th>\n",
       "      <td>New Application Launch</td>\n",
       "      <td>4</td>\n",
       "    </tr>\n",
       "    <tr>\n",
       "      <th>16</th>\n",
       "      <td>Secure Development</td>\n",
       "      <td>4</td>\n",
       "    </tr>\n",
       "    <tr>\n",
       "      <th>19</th>\n",
       "      <td>Third Party Engagement</td>\n",
       "      <td>4</td>\n",
       "    </tr>\n",
       "    <tr>\n",
       "      <th>17</th>\n",
       "      <td>Segregation of Duties</td>\n",
       "      <td>3</td>\n",
       "    </tr>\n",
       "    <tr>\n",
       "      <th>4</th>\n",
       "      <td>Encryption</td>\n",
       "      <td>3</td>\n",
       "    </tr>\n",
       "    <tr>\n",
       "      <th>13</th>\n",
       "      <td>Password non-expiry</td>\n",
       "      <td>2</td>\n",
       "    </tr>\n",
       "    <tr>\n",
       "      <th>22</th>\n",
       "      <td>Unauthorized software</td>\n",
       "      <td>2</td>\n",
       "    </tr>\n",
       "    <tr>\n",
       "      <th>0</th>\n",
       "      <td>Access Management</td>\n",
       "      <td>2</td>\n",
       "    </tr>\n",
       "  </tbody>\n",
       "</table>\n",
       "</div>"
      ],
      "text/plain": [
       "               Sub Category  Ticket No\n",
       "5                  Firewall         34\n",
       "9            Malware Attack         34\n",
       "6                      GDPR         30\n",
       "8            Insider Threat         25\n",
       "7                     HIPAA         24\n",
       "14                 Phishing         17\n",
       "18                  Spyware         16\n",
       "2                    BCP/DR         15\n",
       "12                  PCI-DSS         14\n",
       "1   Application Offboarding         12\n",
       "15       Privacy Assessment         11\n",
       "20            Trojan Attack         10\n",
       "11        Obsolete Software          8\n",
       "23                  Vishing          7\n",
       "3         Database Security          5\n",
       "21      Unauthorized access          5\n",
       "10   New Application Launch          4\n",
       "16       Secure Development          4\n",
       "19   Third Party Engagement          4\n",
       "17    Segregation of Duties          3\n",
       "4                Encryption          3\n",
       "13      Password non-expiry          2\n",
       "22    Unauthorized software          2\n",
       "0         Access Management          2"
      ]
     },
     "execution_count": 23,
     "metadata": {},
     "output_type": "execute_result"
    }
   ],
   "source": [
    "high_p = plt_df[plt_df['Priority'] == 'High']\n",
    "high_p_sub_cat_gp = grp_df(high_p, ['Sub Category'], {'Ticket No':'count'})\n",
    "print('Total High priority tickets: ', high_p.shape[0])\n",
    "high_p_sub_cat_gp.sort_values('Ticket No', ascending= False)"
   ]
  },
  {
   "cell_type": "markdown",
   "metadata": {},
   "source": [
    "## Demographic Analysis"
   ]
  },
  {
   "cell_type": "markdown",
   "metadata": {},
   "source": [
    "#### Which state contributed to maximum work in the year 2021?\n",
    "\n",
    "+ The top 10 states alone sum upto creating 65% of the tickets during the year 2021.\n",
    "+  California alone create 21% of the tickets in the year 2021."
   ]
  },
  {
   "cell_type": "code",
   "execution_count": 24,
   "metadata": {},
   "outputs": [
    {
     "data": {
      "image/png": "[encoded data removed]",
      "text/plain": [
       "<Figure size 1200x800 with 1 Axes>"
      ]
     },
     "metadata": {},
     "output_type": "display_data"
    }
   ],
   "source": [
    "most_case = grp_df(plt_df,['State'],{'Ticket No':'count'})\n",
    "most_case.to_excel('./Data/Demographic.xlsx')\n",
    "\n",
    "barplot(most_case['State'], most_case['Ticket No'], rotation=90, \n",
    "        order=most_case.sort_values('Ticket No',ascending = False).State, color='lightgrey')"
   ]
  },
  {
   "cell_type": "markdown",
   "metadata": {},
   "source": [
    "#### Which state raised most of the high prioirty tickets?\n",
    "\n",
    "+ 83 % percent of the case created by Michigan is a High priority tickets\n",
    "+ ~50% of the tickets created Florida, Texas, Virgina, Utah, Colorado and Pennsylvania are high priority tickets"
   ]
  },
  {
   "cell_type": "code",
   "execution_count": 25,
   "metadata": {},
   "outputs": [
    {
     "data": {
      "image/png": "[encoded data removed]",
      "text/plain": [
       "<Figure size 1200x800 with 1 Axes>"
      ]
     },
     "metadata": {},
     "output_type": "display_data"
    }
   ],
   "source": [
    "# Create df State-priority grouped\n",
    "state_p_tkt = grp_df(plt_df,['State','Priority'],{'Ticket No':'count'})\n",
    "\n",
    "# Combine to get total case\n",
    "cmb_df = pd.merge(state_p_tkt, most_case, on ='State', how='outer')\n",
    "cmb_df.to_excel('./Data/priority.xlsx')\n",
    "# Update the df for ploting\n",
    "high_p_tkt = cmb_df[cmb_df['Priority']=='High'].sort_values('Ticket No_x',ascending= False)[:10]\n",
    "high_p_tkt['Total Tickets'] = high_p_tkt['Ticket No_y'] - high_p_tkt['Ticket No_x']\n",
    "high_p_tkt.rename(columns={'Ticket No_x': 'High priority Tickest'}, inplace=True)\n",
    "high_p_tkt.drop(columns=['Priority', 'Ticket No_y'], inplace= True)\n",
    "high_p_tkt.set_index('State', inplace= True)\n",
    "\n",
    "# Plot the data\n",
    "ax =high_p_tkt.plot(kind = 'bar', stacked = True, color = ['#ff4d43','#D8D8D8'], figsize = (12,8))\n",
    "ax.bar_label(ax.containers[0])\n",
    "ax.bar_label(ax.containers[1])\n",
    "ax.set(yticks=[])\n",
    "sns.despine(left=True)\n"
   ]
  },
  {
   "cell_type": "markdown",
   "metadata": {},
   "source": [
    "#### On the month of April and Aug which state raised most of the tickets?\n",
    "\n",
    "+ More than 50% of cases created on April and Aug were created by\n",
    "    - California\n",
    "    - New york\n",
    "    - Texas\n",
    "    - Virginia\n",
    "    - Florida"
   ]
  },
  {
   "cell_type": "code",
   "execution_count": 26,
   "metadata": {},
   "outputs": [
    {
     "data": {
      "image/png": "[encoded data removed]",
      "text/plain": [
       "<Figure size 2000x1200 with 2 Axes>"
      ]
     },
     "metadata": {},
     "output_type": "display_data"
    }
   ],
   "source": [
    "dumb_df = plt_df[(plt_df['month created'] =='Apr') | (plt_df['month created'] =='Aug')]\n",
    "dumb_df_grp = pd.DataFrame(dumb_df.groupby(['State','month created'])['Ticket No'].count())\n",
    "dumb_df_grp.reset_index(inplace= True)\n",
    "\n",
    "apr_top5 = dumb_df_grp[dumb_df_grp['month created'] =='Apr'].sort_values('Ticket No',ascending=False)[:5]\n",
    "aug_top5 = dumb_df_grp[dumb_df_grp['month created'] =='Aug'].sort_values('Ticket No',ascending=False)[:5]\n",
    "dumb_df.to_excel('./Data/apr aug.xlsx')\n",
    "# Subplots\n",
    "fig, ax = plt.subplots(1,2,figsize = (20,12))\n",
    "#fig.suptitle('Tickets created on April')\n",
    "\n",
    "# Plot 1 - Tickets Completed (Meaning the tickets are closed / becomes Inactive )\n",
    "p1 = sns.barplot (x = apr_top5['State'], y = apr_top5['Ticket No'],  ax = ax[0], color = 'lightgrey')\n",
    "\n",
    "p1.bar_label(p1.containers[0], label_type = 'edge')\n",
    "p1.set(yticks = [],ylabel = '',xlabel= 'Tickets created on April')\n",
    "\n",
    "\n",
    "\n",
    "# Plot 2 - Tickets Picked (Meaning the tickets are picked / becomes active )\n",
    "p2 = sns.barplot (x = aug_top5['State'], y = aug_top5['Ticket No'],  ax = ax[1] , color = 'lightgrey')\n",
    "p2.bar_label(p2.containers[0], label_type= 'edge')\n",
    "p2.set(ylabel = '',xlabel= 'Tickets created on August')\n",
    "\n",
    "sns.despine(bottom = True, left = True)\n",
    "plt.show()\n"
   ]
  },
  {
   "cell_type": "markdown",
   "metadata": {},
   "source": [
    "#### Which state created most of the HIPPA tickets?\n",
    "+ California had the highest HIPAA tickets throught the year 2021\n",
    "+ Utah had 7 out of 18 tickets to be HIPAA which almost 38% "
   ]
  },
  {
   "cell_type": "code",
   "execution_count": 27,
   "metadata": {},
   "outputs": [
    {
     "data": {
      "text/html": [
       "<div>\n",
       "<style scoped>\n",
       "    .dataframe tbody tr th:only-of-type {\n",
       "        vertical-align: middle;\n",
       "    }\n",
       "\n",
       "    .dataframe tbody tr th {\n",
       "        vertical-align: top;\n",
       "    }\n",
       "\n",
       "    .dataframe thead th {\n",
       "        text-align: right;\n",
       "    }\n",
       "</style>\n",
       "<table border=\"1\" class=\"dataframe\">\n",
       "  <thead>\n",
       "    <tr style=\"text-align: right;\">\n",
       "      <th></th>\n",
       "      <th>State</th>\n",
       "      <th>Ticket count</th>\n",
       "    </tr>\n",
       "  </thead>\n",
       "  <tbody>\n",
       "    <tr>\n",
       "      <th>1</th>\n",
       "      <td>California</td>\n",
       "      <td>9</td>\n",
       "    </tr>\n",
       "    <tr>\n",
       "      <th>16</th>\n",
       "      <td>Utah</td>\n",
       "      <td>7</td>\n",
       "    </tr>\n",
       "    <tr>\n",
       "      <th>2</th>\n",
       "      <td>Colorado</td>\n",
       "      <td>6</td>\n",
       "    </tr>\n",
       "    <tr>\n",
       "      <th>15</th>\n",
       "      <td>Texas</td>\n",
       "      <td>5</td>\n",
       "    </tr>\n",
       "    <tr>\n",
       "      <th>0</th>\n",
       "      <td>Arizona</td>\n",
       "      <td>4</td>\n",
       "    </tr>\n",
       "  </tbody>\n",
       "</table>\n",
       "</div>"
      ],
      "text/plain": [
       "         State  Ticket count\n",
       "1   California             9\n",
       "16        Utah             7\n",
       "2     Colorado             6\n",
       "15       Texas             5\n",
       "0      Arizona             4"
      ]
     },
     "execution_count": 27,
     "metadata": {},
     "output_type": "execute_result"
    }
   ],
   "source": [
    "hippa_tkt = plt_df[plt_df['Sub Category'] == 'HIPAA']\n",
    "hippa_tkt_gp = grp_df(hippa_tkt,['State'],{'Ticket No':'count'})\n",
    "hippa_tkt_gp.rename(columns={'Ticket No': 'Ticket count'}, inplace= True)\n",
    "hippa_tkt_gp.sort_values('Ticket count',ascending= False)[:5]"
   ]
  },
  {
   "cell_type": "markdown",
   "metadata": {},
   "source": [
    "#### The tickets that took long days are from which state?"
   ]
  },
  {
   "cell_type": "code",
   "execution_count": 28,
   "metadata": {},
   "outputs": [
    {
     "data": {
      "image/png": "[encoded data removed]",
      "text/plain": [
       "<Figure size 1200x800 with 1 Axes>"
      ]
     },
     "metadata": {},
     "output_type": "display_data"
    }
   ],
   "source": [
    "long_days_state_gp = grp_df(long_days,['State'],{'Ticket No': 'count'})\n",
    "long_days_gp.to_excel('./Data/long data tickets.xlsx')\n",
    "barplot(long_days_state_gp['State'],long_days_state_gp['Ticket No'],rotation=90, color= 'lightgrey',\n",
    "        order = long_days_state_gp.sort_values('Ticket No',ascending = False).State)"
   ]
  },
  {
   "cell_type": "markdown",
   "metadata": {},
   "source": [
    "## Rating Analysis"
   ]
  },
  {
   "cell_type": "markdown",
   "metadata": {},
   "source": [
    "### Rating of tickets - Normal Vs Long Days"
   ]
  },
  {
   "cell_type": "code",
   "execution_count": 29,
   "metadata": {},
   "outputs": [
    {
     "data": {
      "text/plain": [
       "(0.056797844298671324, 0.07237485854937124)"
      ]
     },
     "execution_count": 29,
     "metadata": {},
     "output_type": "execute_result"
    }
   ],
   "source": [
    "long_days['Rating'].mean(), sub_cat['Rating'].mean()\n",
    "long_days['Days to complete'].corr(long_days['Rating']), sub_cat['Days to complete'].corr(sub_cat['Rating'])"
   ]
  },
  {
   "cell_type": "markdown",
   "metadata": {},
   "source": [
    "#### Which Assignee has recieved the highest unsatisfactory rating?\n",
    "+ Sebastian has highest unstatisfactory rating, 28% of his works are rated unsatisfactory."
   ]
  },
  {
   "cell_type": "code",
   "execution_count": 30,
   "metadata": {},
   "outputs": [
    {
     "data": {
      "image/png": "[encoded data removed]",
      "text/plain": [
       "<Figure size 1200x800 with 1 Axes>"
      ]
     },
     "metadata": {},
     "output_type": "display_data"
    }
   ],
   "source": [
    "asgn_tkt = grp_df(plt_df,['Assignee'],{'Ticket No':'count'})\n",
    "unsatis = plt_df[plt_df['Customer Rating']=='Unsatisfactory (2)']\n",
    "unsatis_gp = grp_df(unsatis,['Assignee'],{'Ticket No':'count'})\n",
    "\n",
    "asgn_unsatis = pd.merge(asgn_tkt, unsatis_gp, on = 'Assignee', how = 'outer')\n",
    "asgn_unsatis['good tickets'] = asgn_unsatis['Ticket No_x'] - asgn_unsatis['Ticket No_y']\n",
    "asgn_unsatis['percent bad'] = round((asgn_unsatis['Ticket No_y']/asgn_unsatis['Ticket No_x'])*100,2)\n",
    "asgn_unsatis.rename(columns={'Ticket No_y':'bad tickets'}, inplace= True)\n",
    "asgn_unsatis.drop(columns={'Ticket No_x'},inplace=True)\n",
    "asgn_unsatis.to_excel('./Data/unsatis.xlsx')\n",
    "\"\"\"asgn_unsatis.set_index('Assignee', inplace= True)\n",
    "asgn_unsatis = asgn_unsatis.sort_values('bad tickets', ascending=False)\n",
    "\n",
    "# Plot the data\n",
    "ax =asgn_unsatis.plot(kind = 'bar', stacked = True, color = ['#ff4d43','#D8D8D8'], figsize = (12,8))\n",
    "ax.bar_label(ax.containers[0])\n",
    "ax.bar_label(ax.containers[1])\n",
    "ax.set(yticks=[])\n",
    "sns.despine(left=True)\"\"\"\n",
    "barplot(x=asgn_unsatis['Assignee'],y=asgn_unsatis['percent bad'],rotation=90,color='lightgrey')\n"
   ]
  },
  {
   "cell_type": "markdown",
   "metadata": {},
   "source": [
    "#### Which sub category has recieved the most unsatisfactory rating?\n",
    "+ Insider Threat, Phising, New Application Launch, HIPPA and PCI-DSS has the highest number of tickets with unsatisfactory rating"
   ]
  },
  {
   "cell_type": "code",
   "execution_count": 57,
   "metadata": {},
   "outputs": [
    {
     "data": {
      "text/html": [
       "<div>\n",
       "<style scoped>\n",
       "    .dataframe tbody tr th:only-of-type {\n",
       "        vertical-align: middle;\n",
       "    }\n",
       "\n",
       "    .dataframe tbody tr th {\n",
       "        vertical-align: top;\n",
       "    }\n",
       "\n",
       "    .dataframe thead th {\n",
       "        text-align: right;\n",
       "    }\n",
       "</style>\n",
       "<table border=\"1\" class=\"dataframe\">\n",
       "  <thead>\n",
       "    <tr style=\"text-align: right;\">\n",
       "      <th></th>\n",
       "      <th>Sub Category</th>\n",
       "      <th>Ticket No</th>\n",
       "    </tr>\n",
       "  </thead>\n",
       "  <tbody>\n",
       "    <tr>\n",
       "      <th>8</th>\n",
       "      <td>Insider Threat</td>\n",
       "      <td>11</td>\n",
       "    </tr>\n",
       "    <tr>\n",
       "      <th>14</th>\n",
       "      <td>Phishing</td>\n",
       "      <td>10</td>\n",
       "    </tr>\n",
       "    <tr>\n",
       "      <th>11</th>\n",
       "      <td>New Application Launch</td>\n",
       "      <td>10</td>\n",
       "    </tr>\n",
       "    <tr>\n",
       "      <th>7</th>\n",
       "      <td>HIPAA</td>\n",
       "      <td>10</td>\n",
       "    </tr>\n",
       "    <tr>\n",
       "      <th>13</th>\n",
       "      <td>PCI-DSS</td>\n",
       "      <td>9</td>\n",
       "    </tr>\n",
       "    <tr>\n",
       "      <th>15</th>\n",
       "      <td>Privacy Assessment</td>\n",
       "      <td>7</td>\n",
       "    </tr>\n",
       "    <tr>\n",
       "      <th>9</th>\n",
       "      <td>Malware Attack</td>\n",
       "      <td>5</td>\n",
       "    </tr>\n",
       "    <tr>\n",
       "      <th>6</th>\n",
       "      <td>GDPR</td>\n",
       "      <td>5</td>\n",
       "    </tr>\n",
       "    <tr>\n",
       "      <th>17</th>\n",
       "      <td>Third Party Engagement</td>\n",
       "      <td>4</td>\n",
       "    </tr>\n",
       "    <tr>\n",
       "      <th>2</th>\n",
       "      <td>BCP/DR</td>\n",
       "      <td>4</td>\n",
       "    </tr>\n",
       "    <tr>\n",
       "      <th>5</th>\n",
       "      <td>Firewall</td>\n",
       "      <td>3</td>\n",
       "    </tr>\n",
       "    <tr>\n",
       "      <th>4</th>\n",
       "      <td>Encryption</td>\n",
       "      <td>3</td>\n",
       "    </tr>\n",
       "    <tr>\n",
       "      <th>3</th>\n",
       "      <td>Database Security</td>\n",
       "      <td>3</td>\n",
       "    </tr>\n",
       "    <tr>\n",
       "      <th>18</th>\n",
       "      <td>Trojan Attack</td>\n",
       "      <td>2</td>\n",
       "    </tr>\n",
       "    <tr>\n",
       "      <th>12</th>\n",
       "      <td>Obsolete Software</td>\n",
       "      <td>2</td>\n",
       "    </tr>\n",
       "    <tr>\n",
       "      <th>16</th>\n",
       "      <td>Secure Development</td>\n",
       "      <td>2</td>\n",
       "    </tr>\n",
       "    <tr>\n",
       "      <th>20</th>\n",
       "      <td>Unauthorized software</td>\n",
       "      <td>2</td>\n",
       "    </tr>\n",
       "    <tr>\n",
       "      <th>19</th>\n",
       "      <td>Unauthorized access</td>\n",
       "      <td>1</td>\n",
       "    </tr>\n",
       "    <tr>\n",
       "      <th>0</th>\n",
       "      <td>Access Management</td>\n",
       "      <td>1</td>\n",
       "    </tr>\n",
       "    <tr>\n",
       "      <th>1</th>\n",
       "      <td>Application Offboarding</td>\n",
       "      <td>1</td>\n",
       "    </tr>\n",
       "    <tr>\n",
       "      <th>10</th>\n",
       "      <td>Network Security</td>\n",
       "      <td>1</td>\n",
       "    </tr>\n",
       "  </tbody>\n",
       "</table>\n",
       "</div>"
      ],
      "text/plain": [
       "               Sub Category  Ticket No\n",
       "8            Insider Threat         11\n",
       "14                 Phishing         10\n",
       "11   New Application Launch         10\n",
       "7                     HIPAA         10\n",
       "13                  PCI-DSS          9\n",
       "15       Privacy Assessment          7\n",
       "9            Malware Attack          5\n",
       "6                      GDPR          5\n",
       "17   Third Party Engagement          4\n",
       "2                    BCP/DR          4\n",
       "5                  Firewall          3\n",
       "4                Encryption          3\n",
       "3         Database Security          3\n",
       "18            Trojan Attack          2\n",
       "12        Obsolete Software          2\n",
       "16       Secure Development          2\n",
       "20    Unauthorized software          2\n",
       "19      Unauthorized access          1\n",
       "0         Access Management          1\n",
       "1   Application Offboarding          1\n",
       "10         Network Security          1"
      ]
     },
     "execution_count": 57,
     "metadata": {},
     "output_type": "execute_result"
    }
   ],
   "source": [
    "unsatis_sub_cat = grp_df(unsatis,['Sub Category'],{'Ticket No':'count'})\n",
    "unsatis_sub_cat.sort_values('Ticket No', ascending= False)"
   ]
  },
  {
   "cell_type": "markdown",
   "metadata": {},
   "source": [
    "#### Which sub category had the lowest average rating?"
   ]
  },
  {
   "cell_type": "code",
   "execution_count": 31,
   "metadata": {},
   "outputs": [
    {
     "data": {
      "text/html": [
       "<div>\n",
       "<style scoped>\n",
       "    .dataframe tbody tr th:only-of-type {\n",
       "        vertical-align: middle;\n",
       "    }\n",
       "\n",
       "    .dataframe tbody tr th {\n",
       "        vertical-align: top;\n",
       "    }\n",
       "\n",
       "    .dataframe thead th {\n",
       "        text-align: right;\n",
       "    }\n",
       "</style>\n",
       "<table border=\"1\" class=\"dataframe\">\n",
       "  <thead>\n",
       "    <tr style=\"text-align: right;\">\n",
       "      <th></th>\n",
       "      <th>Category</th>\n",
       "      <th>Sub Category</th>\n",
       "      <th>No. of Tickets</th>\n",
       "      <th>Avg. Rating</th>\n",
       "    </tr>\n",
       "  </thead>\n",
       "  <tbody>\n",
       "    <tr>\n",
       "      <th>5</th>\n",
       "      <td>Cyber Consultation</td>\n",
       "      <td>Network Security</td>\n",
       "      <td>1</td>\n",
       "      <td>2.0</td>\n",
       "    </tr>\n",
       "    <tr>\n",
       "      <th>9</th>\n",
       "      <td>Cyber Consultation</td>\n",
       "      <td>Third Party Engagement</td>\n",
       "      <td>9</td>\n",
       "      <td>3.3</td>\n",
       "    </tr>\n",
       "    <tr>\n",
       "      <th>6</th>\n",
       "      <td>Cyber Consultation</td>\n",
       "      <td>New Application Launch</td>\n",
       "      <td>28</td>\n",
       "      <td>3.4</td>\n",
       "    </tr>\n",
       "    <tr>\n",
       "      <th>4</th>\n",
       "      <td>Cyber Consultation</td>\n",
       "      <td>Encryption</td>\n",
       "      <td>7</td>\n",
       "      <td>3.4</td>\n",
       "    </tr>\n",
       "    <tr>\n",
       "      <th>13</th>\n",
       "      <td>Cyber Security Breach</td>\n",
       "      <td>Trojan Attack</td>\n",
       "      <td>10</td>\n",
       "      <td>3.5</td>\n",
       "    </tr>\n",
       "    <tr>\n",
       "      <th>21</th>\n",
       "      <td>Security Gap</td>\n",
       "      <td>Obsolete Software</td>\n",
       "      <td>18</td>\n",
       "      <td>3.6</td>\n",
       "    </tr>\n",
       "    <tr>\n",
       "      <th>15</th>\n",
       "      <td>Data Leak</td>\n",
       "      <td>Phishing</td>\n",
       "      <td>40</td>\n",
       "      <td>3.9</td>\n",
       "    </tr>\n",
       "    <tr>\n",
       "      <th>3</th>\n",
       "      <td>Cyber Consultation</td>\n",
       "      <td>Database Security</td>\n",
       "      <td>11</td>\n",
       "      <td>3.9</td>\n",
       "    </tr>\n",
       "    <tr>\n",
       "      <th>2</th>\n",
       "      <td>Cyber Consultation</td>\n",
       "      <td>BCP/DR</td>\n",
       "      <td>29</td>\n",
       "      <td>3.9</td>\n",
       "    </tr>\n",
       "    <tr>\n",
       "      <th>24</th>\n",
       "      <td>Security Gap</td>\n",
       "      <td>Unauthorized software</td>\n",
       "      <td>8</td>\n",
       "      <td>4.0</td>\n",
       "    </tr>\n",
       "  </tbody>\n",
       "</table>\n",
       "</div>"
      ],
      "text/plain": [
       "                 Category            Sub Category  No. of Tickets  Avg. Rating\n",
       "5      Cyber Consultation        Network Security               1          2.0\n",
       "9      Cyber Consultation  Third Party Engagement               9          3.3\n",
       "6      Cyber Consultation  New Application Launch              28          3.4\n",
       "4      Cyber Consultation              Encryption               7          3.4\n",
       "13  Cyber Security Breach           Trojan Attack              10          3.5\n",
       "21           Security Gap       Obsolete Software              18          3.6\n",
       "15              Data Leak                Phishing              40          3.9\n",
       "3      Cyber Consultation       Database Security              11          3.9\n",
       "2      Cyber Consultation                  BCP/DR              29          3.9\n",
       "24           Security Gap   Unauthorized software               8          4.0"
      ]
     },
     "execution_count": 31,
     "metadata": {},
     "output_type": "execute_result"
    }
   ],
   "source": [
    "low_rat = grp_df(plt_df,['Category','Sub Category'],{'Ticket No':'count','Rating':'mean'})\n",
    "low_rat = low_rat.sort_values('Rating')\n",
    "low_rat.rename(columns={'Ticket No': 'No. of Tickets', 'Rating':'Avg. Rating'}, inplace =  True)\n",
    "low_rat['Avg. Rating'] = round(low_rat['Avg. Rating'],1)\n",
    "low_rat.to_excel('./Data/low rats.xlsx')\n",
    "\n",
    "low_rat = low_rat[:10]\n",
    "low_rat\n"
   ]
  },
  {
   "cell_type": "markdown",
   "metadata": {},
   "source": [
    "## Individual Analysis"
   ]
  },
  {
   "cell_type": "markdown",
   "metadata": {},
   "source": [
    "#### Which individual had the highest and lowest average productivity score in the year 2021?\n",
    "\n",
    "+ Sylvia has the highest productivity score of 1.17 with the total contribution of 3% to the team"
   ]
  },
  {
   "cell_type": "code",
   "execution_count": 32,
   "metadata": {},
   "outputs": [],
   "source": [
    "asgn_pk = plt_df.groupby(['Assignee', 'month picked'])['Ticket No'].count()\n",
    "asgn_cmp = plt_df.groupby(['Assignee', 'month completed'])['Ticket No'].count()\n",
    "asgn_month = pd.concat([asgn_pk, asgn_cmp], axis=1)\n",
    "asgn_month.reset_index(inplace=True)\n",
    "asgn_month.columns = [ 'Assignee','Month','Picked', 'Completed']\n",
    "asgn_month['productivity score'] = np.divide(asgn_month['Completed'],asgn_month['Picked'])\n",
    "\n",
    "# if picked = 0 and completed = 0 replace it with 0 (No producitiviy)\n",
    "asgn_month['productivity score'].replace(np.NaN,0, inplace= True)\n",
    "\n",
    "# if picked = 0 and completed > 0 replace it with 0 (No producitiviy)\n",
    "asgn_month['productivity score'].replace(np.inf,0, inplace= True)\n",
    "\n",
    "allan = asgn_month[asgn_month['Assignee'] == \"Sylviya\"]\n",
    "asgn_month.to_excel('./Data/Assignee prod.xlsx')\n"
   ]
  },
  {
   "cell_type": "code",
   "execution_count": 33,
   "metadata": {},
   "outputs": [
    {
     "data": {
      "text/plain": [
       "Assignee\n",
       "Aleena        0.697917\n",
       "Allan         0.932930\n",
       "Benny         0.416667\n",
       "Bob           0.938889\n",
       "Charles       0.848148\n",
       "Charlotte     0.991667\n",
       "Cinderalla    0.886508\n",
       "Kareema       1.017361\n",
       "Martina       1.084210\n",
       "Michael       0.774964\n",
       "Robbin        0.842460\n",
       "Sean          0.743056\n",
       "Sebastian     1.111111\n",
       "Sylviya       1.172222\n",
       "Veronica      0.948985\n",
       "Name: productivity score, dtype: float64"
      ]
     },
     "execution_count": 33,
     "metadata": {},
     "output_type": "execute_result"
    }
   ],
   "source": [
    "asgn_month.groupby('Assignee')['productivity score'].mean()"
   ]
  },
  {
   "cell_type": "code",
   "execution_count": 56,
   "metadata": {},
   "outputs": [
    {
     "data": {
      "text/html": [
       "<div>\n",
       "<style scoped>\n",
       "    .dataframe tbody tr th:only-of-type {\n",
       "        vertical-align: middle;\n",
       "    }\n",
       "\n",
       "    .dataframe tbody tr th {\n",
       "        vertical-align: top;\n",
       "    }\n",
       "\n",
       "    .dataframe thead th {\n",
       "        text-align: right;\n",
       "    }\n",
       "</style>\n",
       "<table border=\"1\" class=\"dataframe\">\n",
       "  <thead>\n",
       "    <tr style=\"text-align: right;\">\n",
       "      <th></th>\n",
       "      <th>Assignee</th>\n",
       "      <th>long Days tkt</th>\n",
       "      <th>Total tickets</th>\n",
       "      <th>long tkt percent</th>\n",
       "      <th>percent of total contribution</th>\n",
       "    </tr>\n",
       "  </thead>\n",
       "  <tbody>\n",
       "    <tr>\n",
       "      <th>0</th>\n",
       "      <td>Aleena</td>\n",
       "      <td>5</td>\n",
       "      <td>25</td>\n",
       "      <td>20.00</td>\n",
       "      <td>4.07</td>\n",
       "    </tr>\n",
       "    <tr>\n",
       "      <th>1</th>\n",
       "      <td>Allan</td>\n",
       "      <td>8</td>\n",
       "      <td>69</td>\n",
       "      <td>11.59</td>\n",
       "      <td>11.22</td>\n",
       "    </tr>\n",
       "    <tr>\n",
       "      <th>2</th>\n",
       "      <td>Benny</td>\n",
       "      <td>1</td>\n",
       "      <td>30</td>\n",
       "      <td>3.33</td>\n",
       "      <td>4.88</td>\n",
       "    </tr>\n",
       "    <tr>\n",
       "      <th>3</th>\n",
       "      <td>Bob</td>\n",
       "      <td>7</td>\n",
       "      <td>43</td>\n",
       "      <td>16.28</td>\n",
       "      <td>6.99</td>\n",
       "    </tr>\n",
       "    <tr>\n",
       "      <th>4</th>\n",
       "      <td>Charles</td>\n",
       "      <td>2</td>\n",
       "      <td>53</td>\n",
       "      <td>3.77</td>\n",
       "      <td>8.62</td>\n",
       "    </tr>\n",
       "    <tr>\n",
       "      <th>5</th>\n",
       "      <td>Charlotte</td>\n",
       "      <td>1</td>\n",
       "      <td>24</td>\n",
       "      <td>4.17</td>\n",
       "      <td>3.90</td>\n",
       "    </tr>\n",
       "    <tr>\n",
       "      <th>6</th>\n",
       "      <td>Cinderalla</td>\n",
       "      <td>2</td>\n",
       "      <td>42</td>\n",
       "      <td>4.76</td>\n",
       "      <td>6.83</td>\n",
       "    </tr>\n",
       "    <tr>\n",
       "      <th>7</th>\n",
       "      <td>Kareema</td>\n",
       "      <td>6</td>\n",
       "      <td>32</td>\n",
       "      <td>18.75</td>\n",
       "      <td>5.20</td>\n",
       "    </tr>\n",
       "    <tr>\n",
       "      <th>8</th>\n",
       "      <td>Martina</td>\n",
       "      <td>21</td>\n",
       "      <td>99</td>\n",
       "      <td>21.21</td>\n",
       "      <td>16.10</td>\n",
       "    </tr>\n",
       "    <tr>\n",
       "      <th>9</th>\n",
       "      <td>Michael</td>\n",
       "      <td>5</td>\n",
       "      <td>36</td>\n",
       "      <td>13.89</td>\n",
       "      <td>5.85</td>\n",
       "    </tr>\n",
       "    <tr>\n",
       "      <th>10</th>\n",
       "      <td>Robbin</td>\n",
       "      <td>14</td>\n",
       "      <td>46</td>\n",
       "      <td>30.43</td>\n",
       "      <td>7.48</td>\n",
       "    </tr>\n",
       "    <tr>\n",
       "      <th>11</th>\n",
       "      <td>Sean</td>\n",
       "      <td>1</td>\n",
       "      <td>32</td>\n",
       "      <td>3.12</td>\n",
       "      <td>5.20</td>\n",
       "    </tr>\n",
       "    <tr>\n",
       "      <th>12</th>\n",
       "      <td>Sebastian</td>\n",
       "      <td>2</td>\n",
       "      <td>25</td>\n",
       "      <td>8.00</td>\n",
       "      <td>4.07</td>\n",
       "    </tr>\n",
       "    <tr>\n",
       "      <th>13</th>\n",
       "      <td>Sylviya</td>\n",
       "      <td>1</td>\n",
       "      <td>23</td>\n",
       "      <td>4.35</td>\n",
       "      <td>3.74</td>\n",
       "    </tr>\n",
       "    <tr>\n",
       "      <th>14</th>\n",
       "      <td>Veronica</td>\n",
       "      <td>5</td>\n",
       "      <td>36</td>\n",
       "      <td>13.89</td>\n",
       "      <td>5.85</td>\n",
       "    </tr>\n",
       "  </tbody>\n",
       "</table>\n",
       "</div>"
      ],
      "text/plain": [
       "      Assignee  long Days tkt  Total tickets  long tkt percent  \\\n",
       "0       Aleena              5             25             20.00   \n",
       "1        Allan              8             69             11.59   \n",
       "2        Benny              1             30              3.33   \n",
       "3          Bob              7             43             16.28   \n",
       "4      Charles              2             53              3.77   \n",
       "5    Charlotte              1             24              4.17   \n",
       "6   Cinderalla              2             42              4.76   \n",
       "7      Kareema              6             32             18.75   \n",
       "8      Martina             21             99             21.21   \n",
       "9      Michael              5             36             13.89   \n",
       "10      Robbin             14             46             30.43   \n",
       "11        Sean              1             32              3.12   \n",
       "12   Sebastian              2             25              8.00   \n",
       "13     Sylviya              1             23              4.35   \n",
       "14    Veronica              5             36             13.89   \n",
       "\n",
       "    percent of total contribution  \n",
       "0                            4.07  \n",
       "1                           11.22  \n",
       "2                            4.88  \n",
       "3                            6.99  \n",
       "4                            8.62  \n",
       "5                            3.90  \n",
       "6                            6.83  \n",
       "7                            5.20  \n",
       "8                           16.10  \n",
       "9                            5.85  \n",
       "10                           7.48  \n",
       "11                           5.20  \n",
       "12                           4.07  \n",
       "13                           3.74  \n",
       "14                           5.85  "
      ]
     },
     "execution_count": 56,
     "metadata": {},
     "output_type": "execute_result"
    }
   ],
   "source": [
    "asgn_long_tkt = grp_df(long_days,['Assignee'],{'Ticket No':'count'})\n",
    "\n",
    "asgn_long_tkt_percent = pd.merge(asgn_long_tkt,asgn_tkt, on = 'Assignee', how = 'inner')\n",
    "asgn_long_tkt_percent['long tkt percent'] = round((asgn_long_tkt_percent['Ticket No_x'] / asgn_long_tkt_percent['Ticket No_y'])*100,2)\n",
    "asgn_long_tkt_percent['percent of total contribution'] = round((asgn_long_tkt_percent['Ticket No_y']/plt_df.shape[0])*100,2)\n",
    "asgn_long_tkt_percent.rename(columns={'Ticket No_x':'long Days tkt','Ticket No_y': 'Total tickets'}, inplace = True)\n",
    "asgn_long_tkt_percent.to_excel('./Data/asgn long tickets percent.xlsx')\n",
    "asgn_long_tkt_percent"
   ]
  },
  {
   "cell_type": "markdown",
   "metadata": {},
   "source": [
    "## Conclusions\n",
    "\n",
    "+ The **inflow of tickets are less during the month of Feb, Mar, Oct and Nov**. We can use this time effectively in **improving our team with training or KT sessions on the category we received low rating.**\n",
    "\n",
    "+ As we recieve more tickets on Data privacy and Cyber consulation we can **request the products implemenation / Development team to improve the Data handling in more effective way.**\n",
    "\n",
    "+ The **password non-expiry** category ticket takes more than usual days of completion we can request for more **insights from the manager.**\n",
    "\n",
    "+ By setting a standard for indiviuals in the **rate of the unsatifactory(2) tickets < 15%** (1/10 tickets can recieve rating = 2 ).\n",
    "\n",
    "+ Eventhough the **producitvity scores of the individuals seem okish the total contribution to the team of few are very low.** This might be possibly due to new hires, lack of technical expertise etc.\n",
    "\n",
    "## Recommendation (Improving Analysis):\n",
    "+ By shifiting from Days of completion -> Hours of completion we will be able to find the the tickets that truly takes longer time to complete.\n",
    "\n",
    "+ We can include a new data table to have the basic work details of an employee. The columns to be included are Total experience, years of service in the team, expertise. This will help measure the impact of an individual in a ticket."
   ]
  }
 ],
 "metadata": {
  "kernelspec": {
   "display_name": "General_Test_env",
   "language": "python",
   "name": "python3"
  },
  "language_info": {
   "codemirror_mode": {
    "name": "ipython",
    "version": 3
   },
   "file_extension": ".py",
   "mimetype": "text/x-python",
   "name": "python",
   "nbconvert_exporter": "python",
   "pygments_lexer": "ipython3",
   "version": "3.10.12"
  },
  "orig_nbformat": 4
 },
 "nbformat": 4,
 "nbformat_minor": 2
}
